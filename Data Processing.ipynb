{
 "cells": [
  {
   "cell_type": "markdown",
   "id": "ea83b004",
   "metadata": {},
   "source": [
    "## Catchment Scale Data Analysis"
   ]
  },
  {
   "cell_type": "code",
   "execution_count": 36,
   "id": "b57975bb",
   "metadata": {},
   "outputs": [],
   "source": [
    "## Importing library and setting up\n",
    "library(stringr)\n",
    "library(ggplot2)\n",
    "library(dplyr)\n",
    "\n",
    "rm(list=ls())"
   ]
  },
  {
   "cell_type": "code",
   "execution_count": 37,
   "id": "23a4b233",
   "metadata": {},
   "outputs": [],
   "source": [
    "#change this to working directory\n",
    "setwd(\"D:/Wageningen/Period 1/EDCA/Part 2/Stew Strockhorsterdijk\")"
   ]
  },
  {
   "cell_type": "code",
   "execution_count": 38,
   "id": "38924ca1",
   "metadata": {},
   "outputs": [],
   "source": [
    "discharge = read.csv('Discharge.csv', skip=16, sep=\";\")\n",
    "upstream = read.csv('Upstream.csv', skip=16, sep=\";\")\n",
    "downstream = read.csv('Downstream.csv', skip=16, sep=\";\")\n",
    "valve = read.csv('Valve.csv', skip=16, sep=\";\")"
   ]
  },
  {
   "cell_type": "code",
   "execution_count": 39,
   "id": "75a740aa",
   "metadata": {},
   "outputs": [
    {
     "name": "stdout",
     "output_type": "stream",
     "text": [
      "                 Date Value\n",
      "1 2010-08-22 15:00:00   ---\n",
      "2 2010-08-22 16:00:00   ---\n",
      "3 2010-08-22 17:00:00   ---\n",
      "4 2010-08-22 18:00:00   ---\n",
      "5 2010-08-22 19:00:00   ---\n",
      "6 2010-08-22 20:00:00   ---\n"
     ]
    }
   ],
   "source": [
    "#rename columns\n",
    "colnames(discharge)[1]=\"Date\"\n",
    "colnames(discharge)[2]=\"Value\"\n",
    "\n",
    "colnames(upstream)[1]=\"Date\"\n",
    "colnames(upstream)[2]=\"Value\"\n",
    "\n",
    "colnames(downstream)[1]=\"Date\"\n",
    "colnames(downstream)[2]=\"Value\"\n",
    "\n",
    "colnames(valve)[1]=\"Date\"\n",
    "colnames(valve)[2]=\"Value\"\n",
    "\n",
    "print(head(discharge))"
   ]
  },
  {
   "cell_type": "code",
   "execution_count": 40,
   "id": "67026c5c",
   "metadata": {},
   "outputs": [
    {
     "name": "stdout",
     "output_type": "stream",
     "text": [
      "                 Date Value\n",
      "1 2010-08-22 15:00:00    NA\n",
      "2 2010-08-22 16:00:00    NA\n",
      "3 2010-08-22 17:00:00    NA\n",
      "4 2010-08-22 18:00:00    NA\n",
      "5 2010-08-22 19:00:00    NA\n",
      "6 2010-08-22 20:00:00    NA\n"
     ]
    }
   ],
   "source": [
    "#filtering data\n",
    "discharge$Value=str_trim(discharge$Value)\n",
    "discharge$Value[discharge$Value == \"---\"] <- NA\n",
    "discharge$Value = as.numeric(gsub(\",\", \".\", gsub(\"\\\\.\", \"\", discharge$Value)))\n",
    "\n",
    "upstream$Value=str_trim(upstream$Value)\n",
    "upstream$Value[upstream$Value == \"---\"] <- NA\n",
    "upstream$Value = as.numeric(gsub(\",\", \".\", gsub(\"\\\\.\", \"\", upstream$Value)))\n",
    "\n",
    "downstream$Value=str_trim(downstream$Value)\n",
    "downstream$Value[downstream$Value == \"---\"] <- NA\n",
    "downstream$Value = as.numeric(gsub(\",\", \".\", gsub(\"\\\\.\", \"\", downstream$Value)))\n",
    "\n",
    "valve$Value=str_trim(valve$Value)\n",
    "valve$Value[valve$Value == \"---\"] <- NA\n",
    "valve$Value = as.numeric(gsub(\",\", \".\", gsub(\"\\\\.\", \"\", valve$Value)))\n",
    "\n",
    "print(head(discharge))"
   ]
  },
  {
   "cell_type": "code",
   "execution_count": 41,
   "id": "19d3bb03",
   "metadata": {},
   "outputs": [],
   "source": [
    "#changing date format to POSIXlt objects\n",
    "discharge$Date <- as.POSIXlt(discharge$Date, format=\"%Y-%m-%d %H:%M:%S\")\n",
    "valve$Date <- as.POSIXlt(valve$Date, format=\"%Y-%m-%d %H:%M:%S\")\n",
    "upstream$Date <- as.POSIXlt(upstream$Date, format=\"%Y-%m-%d %H:%M:%S\")\n",
    "downstream$Date <- as.POSIXlt(downstream$Date, format=\"%Y-%m-%d %H:%M:%S\")"
   ]
  },
  {
   "cell_type": "code",
   "execution_count": 42,
   "id": "0666f35e",
   "metadata": {},
   "outputs": [
    {
     "name": "stdout",
     "output_type": "stream",
     "text": [
      "                 Date  Valve Upstream Downstream Discharge\n",
      "1 2012-02-01 12:00:00     NA       NA         NA        NA\n",
      "2 2012-02-01 13:00:00 17.735       NA         NA        NA\n",
      "3 2012-02-01 14:00:00 17.735   17.789     17.268     0.070\n",
      "4 2012-02-01 15:00:00 17.736   17.790     17.267     0.071\n",
      "5 2012-02-01 16:00:00 17.736   17.790     17.267     0.071\n",
      "6 2012-02-01 17:00:00 17.736   17.789     17.268     0.069\n"
     ]
    }
   ],
   "source": [
    "#start and end full data\n",
    "start_full <- min(discharge$Date[1],upstream$Date[1],valve$Date[1],downstream$Date[1])\n",
    "end_full <- max(discharge$Date[length(discharge$Date)],upstream$Date[length(upstream$Date)],valve$Date[length(valve$Date)],downstream$Date[length(downstream$Date)])\n",
    "\n",
    "#make full data\n",
    "date_sequence <- seq(from = start_full, to = end_full, by = \"hour\")  \n",
    "full_data <- data.frame(Date = date_sequence)\n",
    "full_data <- right_join(discharge, full_data, by = \"Date\")\n",
    "colnames(full_data)[2]=\"Discharge\"\n",
    "\n",
    "full_data <- right_join(downstream, full_data, by = \"Date\")\n",
    "colnames(full_data)[2]=\"Downstream\"\n",
    "\n",
    "full_data <- right_join(upstream, full_data, by = \"Date\")\n",
    "colnames(full_data)[2]=\"Upstream\"\n",
    "\n",
    "full_data <- right_join(valve, full_data, by = \"Date\")\n",
    "colnames(full_data)[2]=\"Valve\"\n",
    "\n",
    "print(head(full_data))"
   ]
  },
  {
   "cell_type": "code",
   "execution_count": 43,
   "id": "7b9ee3bd",
   "metadata": {},
   "outputs": [
    {
     "data": {
      "text/plain": [
       "      Date                            Value      \n",
       " Min.   :2010-08-22 15:00:00.00   Min.   :0.000  \n",
       " 1st Qu.:2013-12-02 14:30:00.00   1st Qu.:0.001  \n",
       " Median :2017-03-14 14:00:00.00   Median :0.045  \n",
       " Mean   :2017-03-14 13:52:24.30   Mean   :0.096  \n",
       " 3rd Qu.:2020-06-24 14:30:00.00   3rd Qu.:0.127  \n",
       " Max.   :2023-10-05 14:00:00.00   Max.   :2.089  \n",
       " NA's   :13                       NA's   :24396  "
      ]
     },
     "metadata": {},
     "output_type": "display_data"
    },
    {
     "name": "stdout",
     "output_type": "stream",
     "text": [
      "                 Date Value\n",
      "1 2010-08-22 15:00:00    NA\n",
      "2 2010-08-22 16:00:00    NA\n",
      "3 2010-08-22 17:00:00    NA\n",
      "4 2010-08-22 18:00:00    NA\n",
      "5 2010-08-22 19:00:00    NA\n",
      "6 2010-08-22 20:00:00    NA\n"
     ]
    },
    {
     "ename": "ERROR",
     "evalue": "Error in as.POSIXlt.default(start): do not know how to convert 'start' to class \"POSIXlt\"\n",
     "output_type": "error",
     "traceback": [
      "Error in as.POSIXlt.default(start): do not know how to convert 'start' to class \"POSIXlt\"\nTraceback:\n",
      "1. discharge[discharge$Date >= as.POSIXlt(start) & discharge$Date <= \n .     as.POSIXlt(end), ]",
      "2. `[.data.frame`(discharge, discharge$Date >= as.POSIXlt(start) & \n .     discharge$Date <= as.POSIXlt(end), )",
      "3. as.POSIXlt(start)",
      "4. as.POSIXlt.default(start)",
      "5. stop(gettextf(\"do not know how to convert '%s' to class %s\", \n .     deparse1(substitute(x)), dQuote(\"POSIXlt\")), domain = NA)"
     ]
    }
   ],
   "source": [
    "\n",
    "#summary data\n",
    "summary(discharge)\n",
    "print(head (discharge))\n",
    "\n",
    "\n",
    "#plotting\n",
    "options(repr.plot.width = 15) \n",
    "\n",
    "\n",
    "discharge_subset <- discharge[discharge$Date >= as.POSIXlt(start) & discharge$Date <= as.POSIXlt(end), ]\n",
    "downstream_subset <- downstream[downstream$Date >= as.POSIXlt(start) & downstream$Date <= as.POSIXlt(end), ]\n",
    "upstream_subset <- upstream[upstream$Date >= as.POSIXlt(start) & upstream$Date <= as.POSIXlt(end), ]\n",
    "valve_subset <- valve[valve$Date >= as.POSIXlt(start) & valve$Date <= as.POSIXlt(end), ]\n",
    "\n",
    "#plotting ggplot\n",
    "ggplot(discharge_subset, aes(x = as.Date(Date), y = Value)) +\n",
    "  geom_line() +\n",
    "  labs(x = \"Discharge\", y = \"Date\") +\n",
    "  scale_x_date(date_labels = \"%b %Y\", date_breaks = \"8 months\")\n",
    "\n",
    "ggplot(downstream_subset, aes(x = as.Date(Date), y = Value)) +\n",
    "  geom_line() +\n",
    "  labs(x = \"Downstream\", y = \"Date\") +\n",
    "  scale_x_date(date_labels = \"%b %Y\", date_breaks = \"8 months\")\n",
    "\n",
    "ggplot(upstream_subset, aes(x = as.Date(Date), y = Value)) +\n",
    "  geom_line() +\n",
    "  labs(x = \"Upstream\", y = \"Date\") +\n",
    "  scale_x_date(date_labels = \"%b %Y\", date_breaks = \"8 months\")\n",
    "\n",
    "ggplot(valve_subset, aes(x = as.Date(Date), y = Value)) +\n",
    "  geom_line() +\n",
    "  labs(x = \"Valve\", y = \"Date\") +\n",
    "  scale_x_date(date_labels = \"%b %Y\", date_breaks = \"8 months\")\n",
    "#start and end period\n",
    "start = \"2015-01-01\"\n",
    "end = \"2018-01-01\"\n",
    "\n"
   ]
  }
 ],
 "metadata": {
  "kernelspec": {
   "display_name": "R",
   "language": "R",
   "name": "ir"
  },
  "language_info": {
   "codemirror_mode": "r",
   "file_extension": ".r",
   "mimetype": "text/x-r-source",
   "name": "R",
   "pygments_lexer": "r",
   "version": "4.3.1"
  }
 },
 "nbformat": 4,
 "nbformat_minor": 5
}
