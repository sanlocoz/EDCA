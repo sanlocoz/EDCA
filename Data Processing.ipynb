{
 "cells": [
  {
   "cell_type": "markdown",
   "id": "a4c9daea",
   "metadata": {},
   "source": [
    "# Catchment Scale Data Analysis"
   ]
  },
  {
   "cell_type": "markdown",
   "id": "dc23e4f2",
   "metadata": {},
   "source": [
    "## 1. Preparing the data"
   ]
  },
  {
   "cell_type": "code",
   "execution_count": 1,
   "id": "9b7c45ab",
   "metadata": {
    "scrolled": true
   },
   "outputs": [
    {
     "name": "stderr",
     "output_type": "stream",
     "text": [
      "\n",
      "Attaching package: 'dplyr'\n",
      "\n",
      "\n",
      "The following objects are masked from 'package:stats':\n",
      "\n",
      "    filter, lag\n",
      "\n",
      "\n",
      "The following objects are masked from 'package:base':\n",
      "\n",
      "    intersect, setdiff, setequal, union\n",
      "\n",
      "\n"
     ]
    }
   ],
   "source": [
    "## Importing library and setting up\n",
    "library(stringr)\n",
    "library(ggplot2)\n",
    "library(dplyr)\n",
    "\n",
    "rm(list=ls())"
   ]
  },
  {
   "cell_type": "code",
   "execution_count": 2,
   "id": "98d9ccc8",
   "metadata": {
    "scrolled": true
   },
   "outputs": [],
   "source": [
    "#change this to working directory\n",
    "stew_name = \"Baakse Beek Elterweg\"\n",
    "dir = paste(\"D:/Wageningen/Period 1/EDCA/Part 2/Raw Data/Stuw/\", stew_name, sep=\"\")\n",
    "setwd(dir)"
   ]
  },
  {
   "cell_type": "code",
   "execution_count": 3,
   "id": "b7ad47a5",
   "metadata": {
    "scrolled": true
   },
   "outputs": [
    {
     "name": "stderr",
     "output_type": "stream",
     "text": [
      "Warning message in file(file, \"rt\"):\n",
      "\"cannot open file 'Upstream.csv': No such file or directory\"\n"
     ]
    },
    {
     "ename": "ERROR",
     "evalue": "Error in file(file, \"rt\"): cannot open the connection\n",
     "output_type": "error",
     "traceback": [
      "Error in file(file, \"rt\"): cannot open the connection\nTraceback:\n",
      "1. read.csv(\"Upstream.csv\", skip = 16, sep = \";\")",
      "2. read.table(file = file, header = header, sep = sep, quote = quote, \n .     dec = dec, fill = fill, comment.char = comment.char, ...)",
      "3. file(file, \"rt\")"
     ]
    }
   ],
   "source": [
    "discharge = read.csv('Discharge.csv', skip=16, sep=\";\")\n",
    "upstream = read.csv('Upstream.csv', skip=16, sep=\";\")\n",
    "downstream = read.csv('Downstream.csv', skip=16, sep=\";\")\n",
    "valve = read.csv('Valve.csv', skip=16, sep=\";\")"
   ]
  },
  {
   "cell_type": "code",
   "execution_count": null,
   "id": "abe04052",
   "metadata": {
    "scrolled": true
   },
   "outputs": [],
   "source": [
    "#rename columns\n",
    "colnames(discharge)[1]=\"Date\"\n",
    "colnames(discharge)[2]=\"Value\"\n",
    "\n",
    "colnames(upstream)[1]=\"Date\"\n",
    "colnames(upstream)[2]=\"Value\"\n",
    "\n",
    "colnames(downstream)[1]=\"Date\"\n",
    "colnames(downstream)[2]=\"Value\"\n",
    "\n",
    "colnames(valve)[1]=\"Date\"\n",
    "colnames(valve)[2]=\"Value\"\n",
    "\n",
    "print(head(discharge))"
   ]
  },
  {
   "cell_type": "code",
   "execution_count": null,
   "id": "074a17c8",
   "metadata": {
    "scrolled": true
   },
   "outputs": [],
   "source": [
    "#filtering data\n",
    "discharge$Value=str_trim(discharge$Value)\n",
    "discharge$Value[discharge$Value == \"---\"] <- NA\n",
    "discharge$Value = as.numeric(gsub(\",\", \".\", gsub(\"\\\\.\", \"\", discharge$Value)))\n",
    "\n",
    "upstream$Value=str_trim(upstream$Value)\n",
    "upstream$Value[upstream$Value == \"---\"] <- NA\n",
    "upstream$Value = as.numeric(gsub(\",\", \".\", gsub(\"\\\\.\", \"\", upstream$Value)))\n",
    "\n",
    "downstream$Value=str_trim(downstream$Value)\n",
    "downstream$Value[downstream$Value == \"---\"] <- NA\n",
    "downstream$Value = as.numeric(gsub(\",\", \".\", gsub(\"\\\\.\", \"\", downstream$Value)))\n",
    "\n",
    "valve$Value=str_trim(valve$Value)\n",
    "valve$Value[valve$Value == \"---\"] <- NA\n",
    "valve$Value = as.numeric(gsub(\",\", \".\", gsub(\"\\\\.\", \"\", valve$Value)))\n",
    "\n",
    "print(head(discharge))"
   ]
  },
  {
   "cell_type": "code",
   "execution_count": null,
   "id": "f72ac669",
   "metadata": {
    "scrolled": true
   },
   "outputs": [],
   "source": [
    "#changing date format to POSIXlt objects\n",
    "discharge$Date <- as.POSIXlt(discharge$Date, format=\"%Y-%m-%d %H:%M:%S\")\n",
    "valve$Date <- as.POSIXlt(valve$Date, format=\"%Y-%m-%d %H:%M:%S\")\n",
    "upstream$Date <- as.POSIXlt(upstream$Date, format=\"%Y-%m-%d %H:%M:%S\")\n",
    "downstream$Date <- as.POSIXlt(downstream$Date, format=\"%Y-%m-%d %H:%M:%S\")"
   ]
  },
  {
   "cell_type": "code",
   "execution_count": null,
   "id": "e05a9964",
   "metadata": {
    "scrolled": false
   },
   "outputs": [],
   "source": [
    "#start and end full data\n",
    "start_full <- min(discharge$Date[1],upstream$Date[1],valve$Date[1],downstream$Date[1])\n",
    "end_full <- max(discharge$Date[length(discharge$Date)],upstream$Date[length(upstream$Date)],valve$Date[length(valve$Date)],downstream$Date[length(downstream$Date)])\n",
    "\n",
    "#make full data\n",
    "date_sequence <- seq(from = start_full, to = end_full, by = \"hour\")  \n",
    "full_data <- data.frame(Date = date_sequence)\n",
    "\n",
    "full_data <- left_join(full_data, discharge, by = \"Date\")\n",
    "colnames(full_data)[2]=\"Discharge\"\n",
    "\n",
    "full_data <- left_join(full_data, downstream, by = \"Date\")\n",
    "colnames(full_data)[3]=\"Downstream\"\n",
    "\n",
    "full_data <- left_join(full_data, upstream, by = \"Date\")\n",
    "colnames(full_data)[4]=\"Upstream\"\n",
    "\n",
    "full_data <- left_join(full_data, valve, by = \"Date\")\n",
    "colnames(full_data)[5]=\"Valve\"\n",
    "\n",
    "print(head(full_data))\n",
    "\n",
    "summary(full_data)"
   ]
  },
  {
   "cell_type": "markdown",
   "id": "eedf277d",
   "metadata": {},
   "source": [
    "## 2. Filling the Data Using Q-h Relationship"
   ]
  },
  {
   "cell_type": "code",
   "execution_count": null,
   "id": "758a257c",
   "metadata": {
    "scrolled": true
   },
   "outputs": [],
   "source": [
    "#ommiting NA values and choosing only positive or 0 data\n",
    "positive_full_data <- full_data[full_data$Upstream-full_data$Valve >= 0,]\n",
    "positive_full_data <- na.omit(positive_full_data)\n",
    "\n",
    "print(head(positive_full_data))"
   ]
  },
  {
   "cell_type": "code",
   "execution_count": null,
   "id": "d9a8dcfe",
   "metadata": {
    "scrolled": true
   },
   "outputs": [],
   "source": [
    "#adding h (water level) column\n",
    "options(repr.plot.width = 13)\n",
    "\n",
    "positive_full_data$h = positive_full_data$Upstream-positive_full_data$Valve\n",
    "\n",
    "print(head(positive_full_data))"
   ]
  },
  {
   "cell_type": "code",
   "execution_count": null,
   "id": "6065e991",
   "metadata": {
    "scrolled": true
   },
   "outputs": [],
   "source": [
    "lm_model <- lm(Discharge ~ I(h^(3/2)) - 1, data = positive_full_data)\n",
    "predicted_values <- predict(lm_model)\n",
    "\n",
    "discharge_pred <- data.frame(h = seq(0, max(positive_full_data$h), length = 100))\n",
    "\n",
    "discharge_pred$predicted_discharge <- predict(lm_model, newdata = discharge_pred)\n",
    "\n",
    "prediction_intervals <- predict(lm_model, newdata = discharge_pred, interval = \"prediction\")\n",
    "\n",
    "lower_bound <- prediction_intervals[, \"lwr\"]\n",
    "upper_bound <- prediction_intervals[, \"upr\"]\n",
    "\n",
    "discharge_pred$lower <- lower_bound\n",
    "discharge_pred$upper <- upper_bound\n",
    "\n",
    "head(discharge_pred)"
   ]
  },
  {
   "cell_type": "code",
   "execution_count": null,
   "id": "503e3915",
   "metadata": {
    "scrolled": false
   },
   "outputs": [],
   "source": [
    "ggplot(positive_full_data, aes(x = h, y = Discharge)) +\n",
    "  geom_point(shape = 4, size =3, color = \"blue\") +\n",
    "  geom_line(data = discharge_pred, aes(x= h, y = lower), color = \"#FFA500\", linewidth = 0.5) +\n",
    "  geom_line(data = discharge_pred, aes(x= h, y = upper), color = \"#FFA500\", linewidth = 0.5) +\n",
    "  geom_line(aes(y = predicted_values), color = \"red\", linewidth = 1) +\n",
    "  labs(x = \"Height (m)\", y = expression(paste(\"Discharge (\", m^3,\"/h)\")))+\n",
    "  theme(\n",
    "      panel.background = element_rect(fill = \"lightblue\"),\n",
    "      plot.title = element_text(hjust = 0.5, size=16, face =\"bold\"),\n",
    "      axis.title.x = element_text(size = 15),               \n",
    "      axis.title.y = element_text(size = 15),               \n",
    "      axis.text.x = element_text(size = 12),                \n",
    "      axis.text.y = element_text(size = 12)  \n",
    "  ) +\n",
    "  ggtitle(paste(\"Q-h Relationship\", stew_name))"
   ]
  },
  {
   "cell_type": "code",
   "execution_count": null,
   "id": "fdcfffa2",
   "metadata": {
    "scrolled": false
   },
   "outputs": [],
   "source": [
    "summary(lm_model)"
   ]
  },
  {
   "cell_type": "code",
   "execution_count": null,
   "id": "f6c6cc29",
   "metadata": {
    "scrolled": false
   },
   "outputs": [],
   "source": [
    "full_data$h = full_data$Upstream - full_data$Valve\n",
    "\n",
    "filter_data = full_data[is.na(full_data$Discharge) & !is.na(full_data$h),]\n",
    "\n",
    "a = data.frame(h=filter_data$h)\n",
    "\n",
    "filter_data$Discharge = predict(lm_model, newdata = a)\n",
    "\n",
    "NA_before = sum(is.na(full_data$Discharge))\n",
    "\n",
    "print(paste(\"NA before: \", NA_before))\n",
    "\n",
    "fully_data = left_join(full_data, filter_data, by = \"Date\")\n",
    "\n",
    "fully_data <- fully_data %>%\n",
    "  mutate(Discharge.x = ifelse(!is.na(Discharge.y), Discharge.y, Discharge.x)) %>%\n",
    "  select(-Discharge.y)\n",
    "\n",
    "fully_data <- fully_data %>%\n",
    "  select(-Downstream.y)\n",
    "\n",
    "fully_data <- fully_data %>%\n",
    "  select(-Upstream.y)\n",
    "\n",
    "fully_data <- fully_data %>%\n",
    "  select(-Valve.y)\n",
    "\n",
    "fully_data <- fully_data %>%\n",
    "  select(-h.y)\n",
    "\n",
    "NA_after = sum(is.na(fully_data$Discharge.x))\n",
    "\n",
    "print(paste(\"NA after: \", NA_after))\n",
    "\n",
    "colnames(fully_data)[1]=\"Date\"\n",
    "colnames(fully_data)[2]=\"Discharge\"\n",
    "colnames(fully_data)[3]=\"Downstream\"\n",
    "colnames(fully_data)[4]=\"Upstream\"\n",
    "colnames(fully_data)[5]=\"Valve\"\n",
    "colnames(fully_data)[6]=\"h\"\n",
    "\n",
    "head(fully_data)"
   ]
  },
  {
   "cell_type": "code",
   "execution_count": null,
   "id": "2751dd1d",
   "metadata": {},
   "outputs": [],
   "source": [
    "# Specify the file path where you want to save the CSV file\n",
    "file_name = paste(\"/\", stew_name, \"_full data.csv\", sep=\"\")\n",
    "file_path <- paste(dir, file_name, sep=\"\")\n",
    "\n",
    "# Export the data frame to a CSV file\n",
    "write.table(fully_data, file = file_path, row.names = FALSE, sep=\";\")"
   ]
  },
  {
   "cell_type": "markdown",
   "id": "bc02339b",
   "metadata": {},
   "source": [
    "## 3. Filling Data using ARIMA"
   ]
  },
  {
   "cell_type": "code",
   "execution_count": 9,
   "id": "cb290c5d",
   "metadata": {
    "scrolled": true
   },
   "outputs": [
    {
     "name": "stderr",
     "output_type": "stream",
     "text": [
      "Warning message in arima(y.ts.na, order = c(2, 1, 2), method = \"ML\"):\n",
      "\"possible convergence problem: optim gave code = 1\"\n"
     ]
    },
    {
     "data": {
      "text/plain": [
       "           m.c.seq.row..seq.n...seq.col..drop...FALSE.\n",
       "2010-01-01                                 -1.45707782\n",
       "2010-01-08                                 -3.33448283\n",
       "2010-01-15                                 -2.29069171\n",
       "2010-01-22                                 -0.40886136\n",
       "2010-01-29                                 -0.04680107\n",
       "2010-02-05                                 -1.12459596\n",
       "2010-02-12                                 -1.77513632\n",
       "2010-02-19                                 -1.40947481\n",
       "2010-02-26                                 -0.35705400\n",
       "2010-03-05                                  0.64460818\n",
       "       ...                                            \n",
       "2014-10-17                                 -1.64056328\n",
       "2014-10-24                                 -0.30037497\n",
       "2014-10-31                                 -0.98470245\n",
       "2014-11-07                                  0.24542163\n",
       "2014-11-14                                  0.96273680\n",
       "2014-11-21                                  0.49744799\n",
       "2014-11-28                                  1.34592907\n",
       "2014-12-05                                  0.74126700\n",
       "2014-12-12                                  0.84918717\n",
       "2014-12-19                                  1.79192768"
      ]
     },
     "metadata": {},
     "output_type": "display_data"
    }
   ],
   "source": [
    "library(xts)\n",
    "o.time.pos <- seq(1:(52*5))\n",
    "z.idx <- seq.Date(as.Date(\"2010/1/1\"), by=\"week\", length.out = 52*5)\n",
    "sigma <- 1.15\n",
    "phi <- 0.8\n",
    "y_ts <- arima.sim(n = length(o.time.pos), list(ar = c(phi)), sd = sigma)\n",
    "y.ts <- xts(as.numeric(y_ts), order.by=z.idx)\n",
    "y.ts.na <- y.ts\n",
    "# Missing values as NAs\n",
    "y.ts.na[c(40:45, 72:82)] <- NA\n",
    "ar1 <- arima(y.ts.na, order=c(2,1,2), method=\"ML\")\n",
    "y.ts.na1 <- y.ts\n",
    "# Missing values are deleted from the time series. However, the time \n",
    "# index shows that there are weeks missing\n",
    "y.ts.na1 <- y.ts.na1[-c(40:45, 72:82)]\n",
    "y.ts.na1"
   ]
  },
  {
   "cell_type": "code",
   "execution_count": 10,
   "id": "2440a3e8",
   "metadata": {
    "scrolled": false
   },
   "outputs": [
    {
     "data": {
      "text/plain": [
       "          Length Class  Mode     \n",
       "coef        4    -none- numeric  \n",
       "sigma2      1    -none- numeric  \n",
       "var.coef   16    -none- numeric  \n",
       "mask        4    -none- logical  \n",
       "loglik      1    -none- numeric  \n",
       "aic         1    -none- numeric  \n",
       "arma        7    -none- numeric  \n",
       "residuals 260    ts     numeric  \n",
       "call        4    -none- call     \n",
       "series      1    -none- character\n",
       "code        1    -none- numeric  \n",
       "n.cond      1    -none- numeric  \n",
       "nobs        1    -none- numeric  \n",
       "model      10    -none- list     "
      ]
     },
     "metadata": {},
     "output_type": "display_data"
    }
   ],
   "source": [
    "ar2 <- arima(y.ts.na1, order=c(2,1,2), method=\"ML\")\n",
    "summary(ar1)"
   ]
  },
  {
   "cell_type": "code",
   "execution_count": 11,
   "id": "71760680",
   "metadata": {
    "scrolled": true
   },
   "outputs": [
    {
     "data": {
      "text/plain": [
       "          Length Class  Mode     \n",
       "coef        4    -none- numeric  \n",
       "sigma2      1    -none- numeric  \n",
       "var.coef   16    -none- numeric  \n",
       "mask        4    -none- logical  \n",
       "loglik      1    -none- numeric  \n",
       "aic         1    -none- numeric  \n",
       "arma        7    -none- numeric  \n",
       "residuals 243    ts     numeric  \n",
       "call        4    -none- call     \n",
       "series      1    -none- character\n",
       "code        1    -none- numeric  \n",
       "n.cond      1    -none- numeric  \n",
       "nobs        1    -none- numeric  \n",
       "model      10    -none- list     "
      ]
     },
     "metadata": {},
     "output_type": "display_data"
    }
   ],
   "source": [
    "summary(ar2)"
   ]
  },
  {
   "cell_type": "code",
   "execution_count": 4,
   "id": "b259c19b",
   "metadata": {},
   "outputs": [
    {
     "name": "stdout",
     "output_type": "stream",
     "text": [
      "  Discharge\n",
      "1         0\n",
      "2         0\n",
      "3         0\n",
      "4         0\n",
      "5         0\n",
      "6         0\n"
     ]
    }
   ],
   "source": [
    "# Load necessary libraries\n",
    "library(tseries)\n",
    "library(forecast)\n",
    "\n",
    "setwd(\"D:/Wageningen/Period 1/EDCA/Part 2/Raw Data/Stuw/\")\n",
    "# Read the data from CSV file\n",
    "data <- read.csv(\"data.csv\")\n",
    "\n",
    "print(head(data))\n",
    "ts_data <- ts(data$Discharge, frequency = 1)\n",
    "\n"
   ]
  },
  {
   "cell_type": "code",
   "execution_count": 8,
   "id": "ea58057a",
   "metadata": {},
   "outputs": [
    {
     "name": "stderr",
     "output_type": "stream",
     "text": [
      "Warning message in adf.test(ts_data):\n",
      "\"p-value smaller than printed p-value\"\n"
     ]
    },
    {
     "ename": "ERROR",
     "evalue": "Error in xy.coords(x, y, setLab = FALSE): 'x' and 'y' lengths differ\n",
     "output_type": "error",
     "traceback": [
      "Error in xy.coords(x, y, setLab = FALSE): 'x' and 'y' lengths differ\nTraceback:\n",
      "1. polygon(c(time(forecast$mean), rev(time(forecast$mean))), c(forecast$lower, \n .     rev(forecast$upper)), col = \"pink\", border = NA, lwd = 0)",
      "2. xy.coords(x, y, setLab = FALSE)",
      "3. stop(\"'x' and 'y' lengths differ\")"
     ]
    },
    {
     "data": {
      "image/png": "[encoded data removed]",
      "text/plain": [
       "Plot with title \"PACF Plot\""
      ]
     },
     "metadata": {
      "image/png": {
       "height": 420,
       "width": 420
      }
     },
     "output_type": "display_data"
    }
   ],
   "source": [
    "\n",
    "# Check for stationarity using Augmented Dickey-Fuller test\n",
    "adf_test <- adf.test(ts_data)\n",
    "#print(\"ADF Statistic:\", adf_test$statistic)\n",
    "#print(\"p-value:\", adf_test$p.value)\n",
    "\n",
    "# If the series is not stationary, apply differencing\n",
    "if (adf_test$p.value > 0.05) {\n",
    "  ts_diff <- diff(ts_data)\n",
    "} else {\n",
    "  ts_diff <- ts_data\n",
    "}\n",
    "\n",
    "# Plot ACF and PACF plots to determine ARIMA orders\n",
    "par(mfrow=c(1,2))\n",
    "acf(ts_diff, lag.max=20, main=\"ACF Plot\")\n",
    "pacf(ts_diff, lag.max=20, main=\"PACF Plot\")\n",
    "\n",
    "# Fit ARIMA model\n",
    "p <- 1  # Example AR order\n",
    "d <- 1  # Example differencing order\n",
    "q <- 1  # Example MA order\n",
    "arima_model <- arima(ts_diff, order=c(p, d, q))\n",
    "\n",
    "# Forecast next 30 steps\n",
    "forecast_steps <- 30\n",
    "forecast <- forecast(arima_model, h=forecast_steps)\n",
    "\n",
    "# Plot original series and forecasts\n",
    "plot(ts_data, xlim=c(1, length(ts_data) + forecast_steps), ylim=c(min(ts_data), max(ts_data, forecast$upper)), \n",
    "     xlab=\"Time\", ylab=\"Value\", main=\"ARIMA Forecast\")\n",
    "lines(forecast$mean, col=\"red\")\n",
    "polygon(c(time(forecast$mean), rev(time(forecast$mean))), c(forecast$lower, rev(forecast$upper)), col=\"pink\", border=NA, lwd=0)\n",
    "legend(\"topright\", legend=\"95% Prediction Interval\", fill=\"pink\")\n"
   ]
  },
  {
   "cell_type": "code",
   "execution_count": null,
   "id": "3be131f4",
   "metadata": {
    "scrolled": true
   },
   "outputs": [],
   "source": [
    "#start and end period\n",
    "start = \"2000-01-01\"\n",
    "end = \"2025-01-01\""
   ]
  },
  {
   "cell_type": "code",
   "execution_count": null,
   "id": "2dbdcfa2",
   "metadata": {
    "scrolled": true
   },
   "outputs": [],
   "source": [
    "#plotting\n",
    "options(repr.plot.width = 15)\n",
    "\n",
    "fully_subset = fully_data[fully_data$Date >= as.POSIXlt(start) & fully_data$Date <= as.POSIXlt(end), ]\n",
    "\n",
    "#plotting ggplot\n",
    "\n",
    "plots = list()\n",
    "\n",
    "labs = list(\"Date\",\"Discharge\", \"Downstream (m)\", \"Upstream (m)\", \"Valve (m)\", \"Water level (m)\")\n",
    "for (i in seq(2,6))\n",
    "{\n",
    "    p = ggplot(fully_subset, aes(x = as.Date(Date), y = fully_subset[, c(i)])) +\n",
    "        geom_line(color=\"blue\") +\n",
    "        labs(y = labs[i], x = \"Date\") +\n",
    "        scale_x_date(date_labels = \"%b %Y\", date_breaks = \"12 months\") +\n",
    "        theme(\n",
    "          panel.background = element_rect(fill = \"lightblue\"),\n",
    "          plot.title = element_text(hjust = 0.5, size=16, face =\"bold\"),\n",
    "          axis.title.x = element_text(size = 15),               \n",
    "          axis.title.y = element_text(size = 15),               \n",
    "          axis.text.x = element_text(size = 12),                \n",
    "          axis.text.y = element_text(size = 12)  \n",
    "          ) \n",
    "    plots[[i]] = p\n",
    "}\n",
    "\n",
    "for (i in 1:length(plots)) {\n",
    "  print(plots[[i]])\n",
    "}\n",
    "\n",
    "print(length(plots))"
   ]
  },
  {
   "cell_type": "code",
   "execution_count": null,
   "id": "e381ad5f",
   "metadata": {
    "scrolled": false
   },
   "outputs": [],
   "source": [
    "hist(log(fully_subset$Discharge))"
   ]
  },
  {
   "cell_type": "code",
   "execution_count": null,
   "id": "ed6de10d",
   "metadata": {
    "scrolled": true
   },
   "outputs": [],
   "source": [
    "discharge_data = fully_subset$Discharge\n",
    "\n",
    "discharge_data_interpolation = zoo::na.approx(discharge_data)\n",
    "\n",
    "a = data.frame(discharge_data_interpolation)\n",
    "b = data.frame(seq(1, nrow(a)))\n",
    "\n",
    "plot(y=a[,c(1)], x=b[,c(1)], type=\"l\")\n",
    "\n",
    "dim(a)\n",
    "dim(fully_subset)"
   ]
  },
  {
   "cell_type": "code",
   "execution_count": null,
   "id": "e64b38f5",
   "metadata": {
    "scrolled": false
   },
   "outputs": [],
   "source": [
    "install.packages(\"forecast\")\n",
    "library(forecast)\n",
    "\n",
    "# Sample time series data with missing values\n",
    "ts_data <- c(1, 2, NA, 4, 5, NA, 7, NA, 9, 10)\n",
    "\n",
    "# Perform linear interpolation to fill missing values\n",
    "interpolated_data <- na.approx(ts_data)\n",
    "\n",
    "# Fit an ARMA model to the interpolated data\n",
    "arma_model <- Arima(interpolated_data, order = c(p, d, q))\n",
    "\n",
    "# Print ARMA model summary\n",
    "print(summary(arma_model))"
   ]
  },
  {
   "cell_type": "code",
   "execution_count": null,
   "id": "1d0a0593",
   "metadata": {
    "scrolled": false
   },
   "outputs": [],
   "source": [
    "install.packages(\"ncdf4\")\n",
    "install.packages(\"leaflet\")\n",
    "install.packages(\"leaflet.extras\")"
   ]
  },
  {
   "cell_type": "code",
   "execution_count": null,
   "id": "e8346714",
   "metadata": {
    "scrolled": false
   },
   "outputs": [],
   "source": [
    "#load the ncdf4 package \n",
    "library(ncdf4)\n",
    "\n",
    "#open a netCDF file \n",
    "nc_file <- nc_open(\"ESA.nc\")\n",
    "print(nc_file)"
   ]
  },
  {
   "cell_type": "code",
   "execution_count": null,
   "id": "d8bd8597",
   "metadata": {
    "scrolled": false
   },
   "outputs": [],
   "source": [
    "variable_names <- names(ncfile$var)\n",
    "variable_names\n"
   ]
  },
  {
   "cell_type": "code",
   "execution_count": null,
   "id": "211dffc4",
   "metadata": {
    "scrolled": true
   },
   "outputs": [],
   "source": [
    "# Load required libraries\n",
    "library(ncdf4)\n",
    "library(leaflet)\n",
    "library(leaflet.extras)\n",
    "\n",
    "# Open the NetCDF file\n",
    "ncfile <- nc_open(\"ESA1.nc\")\n",
    "\n",
    "# Extract latitude and longitude values from the NetCDF file\n",
    "lat <- ncvar_get(ncfile, \"lat\")\n",
    "lon <- ncvar_get(ncfile, \"lon\")\n",
    "time <- ncvar_get(ncfile, \"time\")\n",
    "\n",
    "\n",
    "# Extract the variable you want to visualize (e.g., temperature)\n",
    "temperature <- ncvar_get(ncfile, \"sensor\")\n",
    "\n",
    "# Create a data frame for leaflet\n",
    "data <- data.frame(lat = as.vector(lat), lon = as.vector(lon), time = as.vector(time), temperature = as.vector(temperature))\n",
    "print(data)\n",
    "# Create an interactive leaflet map\n",
    "m <- leaflet(data) %>%\n",
    "  addTiles() %>%\n",
    "  addHeatmap(data = data, radius = 15, blur = 10, intensity = data$temperature, max = max(data$temperature))\n",
    "\n",
    "# Display the map\n",
    "m\n"
   ]
  },
  {
   "cell_type": "code",
   "execution_count": null,
   "id": "c1bbbc44",
   "metadata": {
    "scrolled": false
   },
   "outputs": [],
   "source": [
    "# Load required libraries\n",
    "library(forecast)\n",
    "\n",
    "# Assuming your_time_series_data is your time series data with missing values\n",
    "# Replace missing values with interpolation or any imputation method\n",
    "your_time_series_data_no_missing <- na.approx(your_time_series_data)\n",
    "\n",
    "# Fit ARIMA model using arima() function on the data without missing values\n",
    "arma_model <- arima(your_time_series_data_no_missing, order = c(p, d, q))\n",
    "\n",
    "# Plot forecasted values, residuals, and diagnostic plots\n",
    "par(mfrow = c(3, 1))  # Set up a 3-row layout for the plots\n",
    "\n",
    "# Plot forecasted values\n",
    "autoplot(forecast(arma_model))\n",
    "title(\"ARMA Model Forecast\")\n",
    "\n",
    "# Plot residuals\n",
    "autoplot(residuals(arma_model))\n",
    "title(\"Residuals\")\n",
    "\n",
    "# Diagnostic plots\n",
    "checkresiduals(arma_model)\n"
   ]
  },
  {
   "cell_type": "code",
   "execution_count": null,
   "id": "9b3b08ce",
   "metadata": {
    "scrolled": false
   },
   "outputs": [],
   "source": [
    "# Load required libraries\n",
    "library(forecast)\n",
    "\n",
    "# Load the AirPassengers dataset (a built-in time series dataset in R)\n",
    "data(AirPassengers)\n",
    "\n",
    "# Introduce missing values in the dataset for demonstration purposes\n",
    "set.seed(42) # Setting seed for reproducibility\n",
    "AirPassengers_with_missing <- AirPassengers\n",
    "AirPassengers_with_missing[sample(1:length(AirPassengers), 10)] <- NA\n",
    "\n",
    "# Replace missing values with interpolation\n",
    "AirPassengers_no_missing <- na.approx(AirPassengers_with_missing)\n",
    "\n",
    "# Fit ARIMA model using auto.arima() function on the data without missing values\n",
    "arma_model <- auto.arima(AirPassengers_no_missing)\n",
    "\n",
    "# Plot forecasted values, residuals, and diagnostic plots\n",
    "par(mfrow = c(3, 1))  # Set up a 3-row layout for the plots\n",
    "\n",
    "# Plot forecasted values\n",
    "plot.new()  # Initialize a new plot\n",
    "autoplot(forecast(arma_model))\n",
    "title(\"ARIMA Model Forecast\")\n",
    "\n",
    "# Plot residuals\n",
    "plot.new()  # Initialize a new plot\n",
    "autoplot(residuals(arma_model))\n",
    "title(\"Residuals\")\n",
    "\n",
    "# Diagnostic plots\n",
    "plot.new()  # Initialize a new plot\n",
    "checkresiduals(arma_model)\n"
   ]
  },
  {
   "cell_type": "code",
   "execution_count": null,
   "id": "454d8ca0",
   "metadata": {
    "scrolled": false
   },
   "outputs": [],
   "source": [
    "# Load required libraries\n",
    "library(forecast)\n",
    "\n",
    "# Load the AirPassengers dataset (a built-in time series dataset in R)\n",
    "data(AirPassengers)\n",
    "\n",
    "# Introduce missing values in the dataset for demonstration purposes\n",
    "set.seed(42) # Setting seed for reproducibility\n",
    "AirPassengers_with_missing <- AirPassengers\n",
    "AirPassengers_with_missing[sample(1:length(AirPassengers), 10)] <- NA\n",
    "\n",
    "# Replace missing values with interpolation\n",
    "AirPassengers_no_missing <- na.approx(AirPassengers_with_missing)\n",
    "\n",
    "# Fit ARIMA model using auto.arima() function on the data without missing values\n",
    "arma_model <- auto.arima(AirPassengers_no_missing)\n",
    "\n",
    "# Set up a 3-row layout for the plots\n",
    "par(mfrow = c(3, 1))\n",
    "\n",
    "# Plot forecasted values\n",
    "autoplot(forecast(arma_model))\n",
    "title(\"ARIMA Model Forecast\")\n",
    "\n",
    "# Reset graphical parameters to default values\n",
    "par(mfrow = c(1, 1))\n"
   ]
  },
  {
   "cell_type": "code",
   "execution_count": null,
   "id": "cef6bfbc",
   "metadata": {
    "scrolled": false
   },
   "outputs": [],
   "source": [
    "acf(a)"
   ]
  },
  {
   "cell_type": "code",
   "execution_count": null,
   "id": "b87de6ad",
   "metadata": {
    "scrolled": false
   },
   "outputs": [],
   "source": [
    "# Load required library\n",
    "library(forecast)\n",
    "\n",
    "# Create a time series with a trend and some noise\n",
    "set.seed(123)\n",
    "ts_data <- ts(cumsum(rnorm(100)), start = 1)\n",
    "\n",
    "# Fit ARMA(2, 1) model\n",
    "arma_model <- arima(ts_data, order = c(10, 0, 10))\n",
    "\n",
    "# Generate forecasts for the next 10 time points\n",
    "forecast_values <- forecast(arma_model, h = 100)\n",
    "\n",
    "#forecast_values\n",
    "# Visualize the original time series and forecasts\n",
    "plot(ts_data, col = \"blue\", xlim = c(1, 200), ylim = range(c(ts_data, forecast_values$mean)), xlab = \"Time\", ylab = \"Value\", main = \"ARMA(2,1) Forecast\")\n",
    "lines(forecast_values$mean, col = \"red\")\n",
    "lines(forecast_values$lower, col = \"orange\", lty = 2)\n",
    "lines(forecast_values$upper, col = \"orange\", lty = 2)\n",
    "legend(\"topleft\", legend = c(\"Observed\", \"Forecast\", \"95% CI\"), col = c(\"blue\", \"red\", \"orange\"), lty = c(1, 1, 2))\n"
   ]
  }
 ],
 "metadata": {
  "kernelspec": {
   "display_name": "R",
   "language": "R",
   "name": "ir"
  },
  "language_info": {
   "codemirror_mode": "r",
   "file_extension": ".r",
   "mimetype": "text/x-r-source",
   "name": "R",
   "pygments_lexer": "r",
   "version": "4.3.1"
  }
 },
 "nbformat": 4,
 "nbformat_minor": 5
}
