{
 "cells": [
  {
   "cell_type": "markdown",
   "id": "a4c9daea",
   "metadata": {},
   "source": [
    "# Catchment Scale Data Analysis"
   ]
  },
  {
   "cell_type": "markdown",
   "id": "dc23e4f2",
   "metadata": {},
   "source": [
    "## 1. Preparing the data"
   ]
  },
  {
   "cell_type": "code",
   "execution_count": 82,
   "id": "9b7c45ab",
   "metadata": {
    "scrolled": true
   },
   "outputs": [],
   "source": [
    "## Importing library and setting up\n",
    "library(stringr)\n",
    "library(ggplot2)\n",
    "library(dplyr)\n",
    "\n",
    "rm(list=ls())"
   ]
  },
  {
   "cell_type": "code",
   "execution_count": 83,
   "id": "98d9ccc8",
   "metadata": {
    "scrolled": true
   },
   "outputs": [],
   "source": [
    "#change this to working directory\n",
    "stew_name = \"Strockhorsterdijk\"\n",
    "dir = paste(\"D:/Wageningen/Period 1/EDCA/Part 2/Stew\", stew_name)\n",
    "setwd(dir)"
   ]
  },
  {
   "cell_type": "code",
   "execution_count": 84,
   "id": "b7ad47a5",
   "metadata": {
    "scrolled": true
   },
   "outputs": [],
   "source": [
    "discharge = read.csv('Discharge.csv', skip=16, sep=\";\")\n",
    "upstream = read.csv('Upstream.csv', skip=16, sep=\";\")\n",
    "downstream = read.csv('Downstream.csv', skip=16, sep=\";\")\n",
    "valve = read.csv('Valve.csv', skip=16, sep=\";\")"
   ]
  },
  {
   "cell_type": "code",
   "execution_count": 85,
   "id": "abe04052",
   "metadata": {
    "scrolled": true
   },
   "outputs": [
    {
     "name": "stdout",
     "output_type": "stream",
     "text": [
      "                 Date Value\n",
      "1 2010-08-22 15:00:00   ---\n",
      "2 2010-08-22 16:00:00   ---\n",
      "3 2010-08-22 17:00:00   ---\n",
      "4 2010-08-22 18:00:00   ---\n",
      "5 2010-08-22 19:00:00   ---\n",
      "6 2010-08-22 20:00:00   ---\n"
     ]
    }
   ],
   "source": [
    "#rename columns\n",
    "colnames(discharge)[1]=\"Date\"\n",
    "colnames(discharge)[2]=\"Value\"\n",
    "\n",
    "colnames(upstream)[1]=\"Date\"\n",
    "colnames(upstream)[2]=\"Value\"\n",
    "\n",
    "colnames(downstream)[1]=\"Date\"\n",
    "colnames(downstream)[2]=\"Value\"\n",
    "\n",
    "colnames(valve)[1]=\"Date\"\n",
    "colnames(valve)[2]=\"Value\"\n",
    "\n",
    "print(head(discharge))"
   ]
  },
  {
   "cell_type": "code",
   "execution_count": 86,
   "id": "074a17c8",
   "metadata": {
    "scrolled": true
   },
   "outputs": [
    {
     "name": "stdout",
     "output_type": "stream",
     "text": [
      "                 Date Value\n",
      "1 2010-08-22 15:00:00    NA\n",
      "2 2010-08-22 16:00:00    NA\n",
      "3 2010-08-22 17:00:00    NA\n",
      "4 2010-08-22 18:00:00    NA\n",
      "5 2010-08-22 19:00:00    NA\n",
      "6 2010-08-22 20:00:00    NA\n"
     ]
    }
   ],
   "source": [
    "#filtering data\n",
    "discharge$Value=str_trim(discharge$Value)\n",
    "discharge$Value[discharge$Value == \"---\"] <- NA\n",
    "discharge$Value = as.numeric(gsub(\",\", \".\", gsub(\"\\\\.\", \"\", discharge$Value)))\n",
    "\n",
    "upstream$Value=str_trim(upstream$Value)\n",
    "upstream$Value[upstream$Value == \"---\"] <- NA\n",
    "upstream$Value = as.numeric(gsub(\",\", \".\", gsub(\"\\\\.\", \"\", upstream$Value)))\n",
    "\n",
    "downstream$Value=str_trim(downstream$Value)\n",
    "downstream$Value[downstream$Value == \"---\"] <- NA\n",
    "downstream$Value = as.numeric(gsub(\",\", \".\", gsub(\"\\\\.\", \"\", downstream$Value)))\n",
    "\n",
    "valve$Value=str_trim(valve$Value)\n",
    "valve$Value[valve$Value == \"---\"] <- NA\n",
    "valve$Value = as.numeric(gsub(\",\", \".\", gsub(\"\\\\.\", \"\", valve$Value)))\n",
    "\n",
    "print(head(discharge))"
   ]
  },
  {
   "cell_type": "code",
   "execution_count": 87,
   "id": "f72ac669",
   "metadata": {
    "scrolled": true
   },
   "outputs": [],
   "source": [
    "#changing date format to POSIXlt objects\n",
    "discharge$Date <- as.POSIXlt(discharge$Date, format=\"%Y-%m-%d %H:%M:%S\")\n",
    "valve$Date <- as.POSIXlt(valve$Date, format=\"%Y-%m-%d %H:%M:%S\")\n",
    "upstream$Date <- as.POSIXlt(upstream$Date, format=\"%Y-%m-%d %H:%M:%S\")\n",
    "downstream$Date <- as.POSIXlt(downstream$Date, format=\"%Y-%m-%d %H:%M:%S\")"
   ]
  },
  {
   "cell_type": "code",
   "execution_count": 88,
   "id": "e05a9964",
   "metadata": {
    "scrolled": false
   },
   "outputs": [
    {
     "name": "stdout",
     "output_type": "stream",
     "text": [
      "                 Date Discharge Downstream Upstream Valve\n",
      "1 2010-08-22 15:00:00        NA     17.035   17.654    NA\n",
      "2 2010-08-22 16:00:00        NA     17.034   17.654    NA\n",
      "3 2010-08-22 17:00:00        NA     17.034   17.654    NA\n",
      "4 2010-08-22 18:00:00        NA     17.035   17.654    NA\n",
      "5 2010-08-22 19:00:00        NA     17.035   17.655    NA\n",
      "6 2010-08-22 20:00:00        NA     17.036   17.655    NA\n"
     ]
    },
    {
     "data": {
      "text/plain": [
       "      Date                       Discharge       Downstream       Upstream    \n",
       " Min.   :2010-08-22 15:00:00   Min.   :0.000   Min.   :16.77   Min.   :17.10  \n",
       " 1st Qu.:2013-12-02 13:45:00   1st Qu.:0.001   1st Qu.:17.04   1st Qu.:17.72  \n",
       " Median :2017-03-14 13:30:00   Median :0.045   Median :17.18   Median :17.77  \n",
       " Mean   :2017-03-14 13:30:00   Mean   :0.096   Mean   :17.19   Mean   :17.72  \n",
       " 3rd Qu.:2020-06-24 14:15:00   3rd Qu.:0.127   3rd Qu.:17.32   3rd Qu.:17.83  \n",
       " Max.   :2023-10-05 14:00:00   Max.   :2.089   Max.   :18.59   Max.   :18.61  \n",
       "                               NA's   :24408   NA's   :23905   NA's   :23947  \n",
       "     Valve      \n",
       " Min.   :17.69  \n",
       " 1st Qu.:17.70  \n",
       " Median :17.73  \n",
       " Mean   :17.74  \n",
       " 3rd Qu.:17.75  \n",
       " Max.   :17.96  \n",
       " NA's   :18926  "
      ]
     },
     "metadata": {},
     "output_type": "display_data"
    }
   ],
   "source": [
    "#start and end full data\n",
    "start_full <- min(discharge$Date[1],upstream$Date[1],valve$Date[1],downstream$Date[1])\n",
    "end_full <- max(discharge$Date[length(discharge$Date)],upstream$Date[length(upstream$Date)],valve$Date[length(valve$Date)],downstream$Date[length(downstream$Date)])\n",
    "\n",
    "#make full data\n",
    "date_sequence <- seq(from = start_full, to = end_full, by = \"hour\")  \n",
    "full_data <- data.frame(Date = date_sequence)\n",
    "\n",
    "full_data <- left_join(full_data, discharge, by = \"Date\")\n",
    "colnames(full_data)[2]=\"Discharge\"\n",
    "\n",
    "full_data <- left_join(full_data, downstream, by = \"Date\")\n",
    "colnames(full_data)[3]=\"Downstream\"\n",
    "\n",
    "full_data <- left_join(full_data, upstream, by = \"Date\")\n",
    "colnames(full_data)[4]=\"Upstream\"\n",
    "\n",
    "full_data <- left_join(full_data, valve, by = \"Date\")\n",
    "colnames(full_data)[5]=\"Valve\"\n",
    "\n",
    "print(head(full_data))\n",
    "\n",
    "summary(full_data)"
   ]
  },
  {
   "cell_type": "markdown",
   "id": "eedf277d",
   "metadata": {},
   "source": [
    "## 2. Filling the Data Using Q-h Relationship"
   ]
  },
  {
   "cell_type": "code",
   "execution_count": 89,
   "id": "758a257c",
   "metadata": {
    "scrolled": true
   },
   "outputs": [
    {
     "name": "stdout",
     "output_type": "stream",
     "text": [
      "                     Date Discharge Downstream Upstream  Valve\n",
      "12673 2012-02-01 14:00:00     0.070     17.268   17.789 17.735\n",
      "12674 2012-02-01 15:00:00     0.071     17.267   17.790 17.736\n",
      "12675 2012-02-01 16:00:00     0.071     17.267   17.790 17.736\n",
      "12676 2012-02-01 17:00:00     0.069     17.268   17.789 17.736\n",
      "12677 2012-02-01 18:00:00     0.068     17.268   17.788 17.735\n",
      "12678 2012-02-01 19:00:00     0.067     17.268   17.786 17.734\n"
     ]
    }
   ],
   "source": [
    "#ommiting NA values and choosing only positive or 0 data\n",
    "positive_full_data <- full_data[full_data$Upstream-full_data$Valve >= 0,]\n",
    "positive_full_data <- na.omit(positive_full_data)\n",
    "\n",
    "print(head(positive_full_data))"
   ]
  },
  {
   "cell_type": "code",
   "execution_count": 90,
   "id": "d9a8dcfe",
   "metadata": {
    "scrolled": true
   },
   "outputs": [
    {
     "name": "stdout",
     "output_type": "stream",
     "text": [
      "                     Date Discharge Downstream Upstream  Valve     h\n",
      "12673 2012-02-01 14:00:00     0.070     17.268   17.789 17.735 0.054\n",
      "12674 2012-02-01 15:00:00     0.071     17.267   17.790 17.736 0.054\n",
      "12675 2012-02-01 16:00:00     0.071     17.267   17.790 17.736 0.054\n",
      "12676 2012-02-01 17:00:00     0.069     17.268   17.789 17.736 0.053\n",
      "12677 2012-02-01 18:00:00     0.068     17.268   17.788 17.735 0.053\n",
      "12678 2012-02-01 19:00:00     0.067     17.268   17.786 17.734 0.052\n"
     ]
    }
   ],
   "source": [
    "#adding h (water level) column\n",
    "options(repr.plot.width = 13)\n",
    "\n",
    "positive_full_data$h = positive_full_data$Upstream-positive_full_data$Valve\n",
    "\n",
    "print(head(positive_full_data))"
   ]
  },
  {
   "cell_type": "code",
   "execution_count": 91,
   "id": "2de08b79",
   "metadata": {
    "scrolled": true
   },
   "outputs": [],
   "source": [
    "# Specify the file path where you want to save the CSV file\n",
    "file_path <- paste(\"D:/Wageningen/Period 1/EDCA/Part 2/Stew \",stew_name,\"/output.csv\", sep=\"\")\n",
    "\n",
    "# Export the data frame to a CSV file\n",
    "write.table(positive_full_data, file = file_path, row.names = FALSE, sep=\";\")"
   ]
  },
  {
   "cell_type": "code",
   "execution_count": 92,
   "id": "6065e991",
   "metadata": {
    "scrolled": true
   },
   "outputs": [
    {
     "data": {
      "text/html": [
       "<table class=\"dataframe\">\n",
       "<caption>A data.frame: 6 × 4</caption>\n",
       "<thead>\n",
       "\t<tr><th></th><th scope=col>h</th><th scope=col>predicted_discharge</th><th scope=col>lower</th><th scope=col>upper</th></tr>\n",
       "\t<tr><th></th><th scope=col>&lt;dbl&gt;</th><th scope=col>&lt;dbl&gt;</th><th scope=col>&lt;dbl&gt;</th><th scope=col>&lt;dbl&gt;</th></tr>\n",
       "</thead>\n",
       "<tbody>\n",
       "\t<tr><th scope=row>1</th><td>0.000000000</td><td>0.000000000</td><td>-0.025156906</td><td>0.02515691</td></tr>\n",
       "\t<tr><th scope=row>2</th><td>0.006060606</td><td>0.002584676</td><td>-0.022572230</td><td>0.02774158</td></tr>\n",
       "\t<tr><th scope=row>3</th><td>0.012121212</td><td>0.007310569</td><td>-0.017846338</td><td>0.03246748</td></tr>\n",
       "\t<tr><th scope=row>4</th><td>0.018181818</td><td>0.013430372</td><td>-0.011726535</td><td>0.03858728</td></tr>\n",
       "\t<tr><th scope=row>5</th><td>0.024242424</td><td>0.020677411</td><td>-0.004479497</td><td>0.04583432</td></tr>\n",
       "\t<tr><th scope=row>6</th><td>0.030303030</td><td>0.028897560</td><td> 0.003740650</td><td>0.05405447</td></tr>\n",
       "</tbody>\n",
       "</table>\n"
      ],
      "text/latex": [
       "A data.frame: 6 × 4\n",
       "\\begin{tabular}{r|llll}\n",
       "  & h & predicted\\_discharge & lower & upper\\\\\n",
       "  & <dbl> & <dbl> & <dbl> & <dbl>\\\\\n",
       "\\hline\n",
       "\t1 & 0.000000000 & 0.000000000 & -0.025156906 & 0.02515691\\\\\n",
       "\t2 & 0.006060606 & 0.002584676 & -0.022572230 & 0.02774158\\\\\n",
       "\t3 & 0.012121212 & 0.007310569 & -0.017846338 & 0.03246748\\\\\n",
       "\t4 & 0.018181818 & 0.013430372 & -0.011726535 & 0.03858728\\\\\n",
       "\t5 & 0.024242424 & 0.020677411 & -0.004479497 & 0.04583432\\\\\n",
       "\t6 & 0.030303030 & 0.028897560 &  0.003740650 & 0.05405447\\\\\n",
       "\\end{tabular}\n"
      ],
      "text/markdown": [
       "\n",
       "A data.frame: 6 × 4\n",
       "\n",
       "| <!--/--> | h &lt;dbl&gt; | predicted_discharge &lt;dbl&gt; | lower &lt;dbl&gt; | upper &lt;dbl&gt; |\n",
       "|---|---|---|---|---|\n",
       "| 1 | 0.000000000 | 0.000000000 | -0.025156906 | 0.02515691 |\n",
       "| 2 | 0.006060606 | 0.002584676 | -0.022572230 | 0.02774158 |\n",
       "| 3 | 0.012121212 | 0.007310569 | -0.017846338 | 0.03246748 |\n",
       "| 4 | 0.018181818 | 0.013430372 | -0.011726535 | 0.03858728 |\n",
       "| 5 | 0.024242424 | 0.020677411 | -0.004479497 | 0.04583432 |\n",
       "| 6 | 0.030303030 | 0.028897560 |  0.003740650 | 0.05405447 |\n",
       "\n"
      ],
      "text/plain": [
       "  h           predicted_discharge lower        upper     \n",
       "1 0.000000000 0.000000000         -0.025156906 0.02515691\n",
       "2 0.006060606 0.002584676         -0.022572230 0.02774158\n",
       "3 0.012121212 0.007310569         -0.017846338 0.03246748\n",
       "4 0.018181818 0.013430372         -0.011726535 0.03858728\n",
       "5 0.024242424 0.020677411         -0.004479497 0.04583432\n",
       "6 0.030303030 0.028897560          0.003740650 0.05405447"
      ]
     },
     "metadata": {},
     "output_type": "display_data"
    }
   ],
   "source": [
    "lm_model <- lm(Discharge ~ I(h^(3/2)) - 1, data = positive_full_data)\n",
    "predicted_values <- predict(lm_model)\n",
    "\n",
    "discharge_pred <- data.frame(h = seq(0, 0.6, length = 100))\n",
    "\n",
    "discharge_pred$predicted_discharge <- predict(lm_model, newdata = discharge_pred)\n",
    "\n",
    "prediction_intervals <- predict(lm_model, newdata = discharge_pred, interval = \"prediction\")\n",
    "\n",
    "lower_bound <- prediction_intervals[, \"lwr\"]\n",
    "upper_bound <- prediction_intervals[, \"upr\"]\n",
    "\n",
    "discharge_pred$lower <- lower_bound\n",
    "discharge_pred$upper <- upper_bound\n",
    "\n",
    "head(discharge_pred)"
   ]
  },
  {
   "cell_type": "code",
   "execution_count": 93,
   "id": "503e3915",
   "metadata": {},
   "outputs": [
    {
     "data": {
      "image/png": "[encoded data removed]",
      "text/plain": [
       "plot without title"
      ]
     },
     "metadata": {
      "image/png": {
       "height": 420,
       "width": 780
      }
     },
     "output_type": "display_data"
    }
   ],
   "source": [
    "ggplot(positive_full_data, aes(x = h, y = Discharge)) +\n",
    "  geom_point(shape = 4, size =3, color = \"blue\") +\n",
    "  geom_line(data = discharge_pred, aes(x= h, y = lower), color = \"#FFA500\", linewidth = 0.5) +\n",
    "  geom_line(data = discharge_pred, aes(x= h, y = upper), color = \"#FFA500\", linewidth = 0.5) +\n",
    "  geom_line(aes(y = predicted_values), color = \"red\", linewidth = 1) +\n",
    "  labs(x = \"Height (m)\", y = expression(paste(\"Discharge (\", m^3,\"/h)\")))+\n",
    "  theme(\n",
    "      panel.background = element_rect(fill = \"lightblue\"),\n",
    "      plot.title = element_text(hjust = 0.5, size=16, face =\"bold\"),\n",
    "      axis.title.x = element_text(size = 15),               \n",
    "      axis.title.y = element_text(size = 15),               \n",
    "      axis.text.x = element_text(size = 12),                \n",
    "      axis.text.y = element_text(size = 12)  \n",
    "  ) +\n",
    "  ggtitle(paste(\"Q-h Relationship\", stew_name))"
   ]
  },
  {
   "cell_type": "code",
   "execution_count": 94,
   "id": "fdcfffa2",
   "metadata": {
    "scrolled": false
   },
   "outputs": [
    {
     "data": {
      "text/plain": [
       "\n",
       "Call:\n",
       "lm(formula = Discharge ~ I(h^(3/2)) - 1, data = positive_full_data)\n",
       "\n",
       "Residuals:\n",
       "     Min       1Q   Median       3Q      Max \n",
       "-0.49629  0.00066  0.00215  0.00413  0.16416 \n",
       "\n",
       "Coefficients:\n",
       "           Estimate Std. Error t value Pr(>|t|)    \n",
       "I(h^(3/2)) 5.478127   0.001291    4243   <2e-16 ***\n",
       "---\n",
       "Signif. codes:  0 '***' 0.001 '**' 0.01 '*' 0.05 '.' 0.1 ' ' 1\n",
       "\n",
       "Residual standard error: 0.01284 on 69866 degrees of freedom\n",
       "Multiple R-squared:  0.9961,\tAdjusted R-squared:  0.9961 \n",
       "F-statistic: 1.8e+07 on 1 and 69866 DF,  p-value: < 2.2e-16\n"
      ]
     },
     "metadata": {},
     "output_type": "display_data"
    }
   ],
   "source": [
    "summary(lm_model)"
   ]
  },
  {
   "cell_type": "code",
   "execution_count": 112,
   "id": "f6c6cc29",
   "metadata": {},
   "outputs": [
    {
     "data": {
      "text/html": [
       "<table class=\"dataframe\">\n",
       "<caption>A data.frame: 115008 × 10</caption>\n",
       "<thead>\n",
       "\t<tr><th scope=col>Date</th><th scope=col>Discharge.x</th><th scope=col>Downstream.x</th><th scope=col>Upstream.x</th><th scope=col>Valve.x</th><th scope=col>h.x</th><th scope=col>Downstream.y</th><th scope=col>Upstream.y</th><th scope=col>Valve.y</th><th scope=col>h.y</th></tr>\n",
       "\t<tr><th scope=col>&lt;dttm&gt;</th><th scope=col>&lt;dbl&gt;</th><th scope=col>&lt;dbl&gt;</th><th scope=col>&lt;dbl&gt;</th><th scope=col>&lt;dbl&gt;</th><th scope=col>&lt;dbl&gt;</th><th scope=col>&lt;dbl&gt;</th><th scope=col>&lt;dbl&gt;</th><th scope=col>&lt;dbl&gt;</th><th scope=col>&lt;dbl&gt;</th></tr>\n",
       "</thead>\n",
       "<tbody>\n",
       "\t<tr><td>2010-08-22 15:00:00</td><td>NA</td><td>17.035</td><td>17.654</td><td>NA</td><td>NA</td><td>NA</td><td>NA</td><td>NA</td><td>NA</td></tr>\n",
       "\t<tr><td>2010-08-22 16:00:00</td><td>NA</td><td>17.034</td><td>17.654</td><td>NA</td><td>NA</td><td>NA</td><td>NA</td><td>NA</td><td>NA</td></tr>\n",
       "\t<tr><td>2010-08-22 17:00:00</td><td>NA</td><td>17.034</td><td>17.654</td><td>NA</td><td>NA</td><td>NA</td><td>NA</td><td>NA</td><td>NA</td></tr>\n",
       "\t<tr><td>2010-08-22 18:00:00</td><td>NA</td><td>17.035</td><td>17.654</td><td>NA</td><td>NA</td><td>NA</td><td>NA</td><td>NA</td><td>NA</td></tr>\n",
       "\t<tr><td>2010-08-22 19:00:00</td><td>NA</td><td>17.035</td><td>17.655</td><td>NA</td><td>NA</td><td>NA</td><td>NA</td><td>NA</td><td>NA</td></tr>\n",
       "\t<tr><td>2010-08-22 20:00:00</td><td>NA</td><td>17.036</td><td>17.655</td><td>NA</td><td>NA</td><td>NA</td><td>NA</td><td>NA</td><td>NA</td></tr>\n",
       "\t<tr><td>2010-08-22 21:00:00</td><td>NA</td><td>17.038</td><td>17.655</td><td>NA</td><td>NA</td><td>NA</td><td>NA</td><td>NA</td><td>NA</td></tr>\n",
       "\t<tr><td>2010-08-22 22:00:00</td><td>NA</td><td>17.048</td><td>17.658</td><td>NA</td><td>NA</td><td>NA</td><td>NA</td><td>NA</td><td>NA</td></tr>\n",
       "\t<tr><td>2010-08-22 23:00:00</td><td>NA</td><td>17.062</td><td>17.660</td><td>NA</td><td>NA</td><td>NA</td><td>NA</td><td>NA</td><td>NA</td></tr>\n",
       "\t<tr><td>2010-08-23 00:00:00</td><td>NA</td><td>17.066</td><td>17.658</td><td>NA</td><td>NA</td><td>NA</td><td>NA</td><td>NA</td><td>NA</td></tr>\n",
       "\t<tr><td>2010-08-23 01:00:00</td><td>NA</td><td>17.067</td><td>17.659</td><td>NA</td><td>NA</td><td>NA</td><td>NA</td><td>NA</td><td>NA</td></tr>\n",
       "\t<tr><td>2010-08-23 02:00:00</td><td>NA</td><td>17.070</td><td>17.660</td><td>NA</td><td>NA</td><td>NA</td><td>NA</td><td>NA</td><td>NA</td></tr>\n",
       "\t<tr><td>2010-08-23 03:00:00</td><td>NA</td><td>17.084</td><td>17.663</td><td>NA</td><td>NA</td><td>NA</td><td>NA</td><td>NA</td><td>NA</td></tr>\n",
       "\t<tr><td>2010-08-23 04:00:00</td><td>NA</td><td>17.112</td><td>17.668</td><td>NA</td><td>NA</td><td>NA</td><td>NA</td><td>NA</td><td>NA</td></tr>\n",
       "\t<tr><td>2010-08-23 05:00:00</td><td>NA</td><td>17.137</td><td>17.672</td><td>NA</td><td>NA</td><td>NA</td><td>NA</td><td>NA</td><td>NA</td></tr>\n",
       "\t<tr><td>2010-08-23 06:00:00</td><td>NA</td><td>17.168</td><td>17.676</td><td>NA</td><td>NA</td><td>NA</td><td>NA</td><td>NA</td><td>NA</td></tr>\n",
       "\t<tr><td>2010-08-23 07:00:00</td><td>NA</td><td>17.196</td><td>17.679</td><td>NA</td><td>NA</td><td>NA</td><td>NA</td><td>NA</td><td>NA</td></tr>\n",
       "\t<tr><td>2010-08-23 08:00:00</td><td>NA</td><td>17.227</td><td>17.684</td><td>NA</td><td>NA</td><td>NA</td><td>NA</td><td>NA</td><td>NA</td></tr>\n",
       "\t<tr><td>2010-08-23 09:00:00</td><td>NA</td><td>17.267</td><td>17.695</td><td>NA</td><td>NA</td><td>NA</td><td>NA</td><td>NA</td><td>NA</td></tr>\n",
       "\t<tr><td>2010-08-23 10:00:00</td><td>NA</td><td>17.329</td><td>17.712</td><td>NA</td><td>NA</td><td>NA</td><td>NA</td><td>NA</td><td>NA</td></tr>\n",
       "\t<tr><td>2010-08-23 11:00:00</td><td>NA</td><td>17.418</td><td>17.740</td><td>NA</td><td>NA</td><td>NA</td><td>NA</td><td>NA</td><td>NA</td></tr>\n",
       "\t<tr><td>2010-08-23 12:00:00</td><td>NA</td><td>17.498</td><td>17.756</td><td>NA</td><td>NA</td><td>NA</td><td>NA</td><td>NA</td><td>NA</td></tr>\n",
       "\t<tr><td>2010-08-23 13:00:00</td><td>NA</td><td>17.540</td><td>17.759</td><td>NA</td><td>NA</td><td>NA</td><td>NA</td><td>NA</td><td>NA</td></tr>\n",
       "\t<tr><td>2010-08-23 14:00:00</td><td>NA</td><td>17.564</td><td>17.762</td><td>NA</td><td>NA</td><td>NA</td><td>NA</td><td>NA</td><td>NA</td></tr>\n",
       "\t<tr><td>2010-08-23 15:00:00</td><td>NA</td><td>17.587</td><td>17.766</td><td>NA</td><td>NA</td><td>NA</td><td>NA</td><td>NA</td><td>NA</td></tr>\n",
       "\t<tr><td>2010-08-23 16:00:00</td><td>NA</td><td>17.606</td><td>17.767</td><td>NA</td><td>NA</td><td>NA</td><td>NA</td><td>NA</td><td>NA</td></tr>\n",
       "\t<tr><td>2010-08-23 17:00:00</td><td>NA</td><td>17.615</td><td>17.765</td><td>NA</td><td>NA</td><td>NA</td><td>NA</td><td>NA</td><td>NA</td></tr>\n",
       "\t<tr><td>2010-08-23 18:00:00</td><td>NA</td><td>17.616</td><td>17.761</td><td>NA</td><td>NA</td><td>NA</td><td>NA</td><td>NA</td><td>NA</td></tr>\n",
       "\t<tr><td>2010-08-23 19:00:00</td><td>NA</td><td>17.613</td><td>17.757</td><td>NA</td><td>NA</td><td>NA</td><td>NA</td><td>NA</td><td>NA</td></tr>\n",
       "\t<tr><td>2010-08-23 20:00:00</td><td>NA</td><td>17.605</td><td>17.751</td><td>NA</td><td>NA</td><td>NA</td><td>NA</td><td>NA</td><td>NA</td></tr>\n",
       "\t<tr><td>⋮</td><td>⋮</td><td>⋮</td><td>⋮</td><td>⋮</td><td>⋮</td><td>⋮</td><td>⋮</td><td>⋮</td><td>⋮</td></tr>\n",
       "\t<tr><td>2023-10-04 09:00:00</td><td>0.020</td><td>17.072</td><td>17.835</td><td>17.812</td><td>0.023</td><td>NA</td><td>NA</td><td>NA</td><td>NA</td></tr>\n",
       "\t<tr><td>2023-10-04 10:00:00</td><td>0.020</td><td>17.072</td><td>17.835</td><td>17.812</td><td>0.023</td><td>NA</td><td>NA</td><td>NA</td><td>NA</td></tr>\n",
       "\t<tr><td>2023-10-04 11:00:00</td><td>0.019</td><td>17.071</td><td>17.835</td><td>17.812</td><td>0.023</td><td>NA</td><td>NA</td><td>NA</td><td>NA</td></tr>\n",
       "\t<tr><td>2023-10-04 12:00:00</td><td>0.019</td><td>17.069</td><td>17.835</td><td>17.812</td><td>0.023</td><td>NA</td><td>NA</td><td>NA</td><td>NA</td></tr>\n",
       "\t<tr><td>2023-10-04 13:00:00</td><td>0.018</td><td>17.068</td><td>17.834</td><td>17.812</td><td>0.022</td><td>NA</td><td>NA</td><td>NA</td><td>NA</td></tr>\n",
       "\t<tr><td>2023-10-04 14:00:00</td><td>0.018</td><td>17.066</td><td>17.834</td><td>17.812</td><td>0.022</td><td>NA</td><td>NA</td><td>NA</td><td>NA</td></tr>\n",
       "\t<tr><td>2023-10-04 15:00:00</td><td>0.018</td><td>17.065</td><td>17.834</td><td>17.812</td><td>0.022</td><td>NA</td><td>NA</td><td>NA</td><td>NA</td></tr>\n",
       "\t<tr><td>2023-10-04 16:00:00</td><td>0.017</td><td>17.063</td><td>17.833</td><td>17.812</td><td>0.021</td><td>NA</td><td>NA</td><td>NA</td><td>NA</td></tr>\n",
       "\t<tr><td>2023-10-04 17:00:00</td><td>0.018</td><td>17.062</td><td>17.834</td><td>17.812</td><td>0.022</td><td>NA</td><td>NA</td><td>NA</td><td>NA</td></tr>\n",
       "\t<tr><td>2023-10-04 18:00:00</td><td>0.018</td><td>17.061</td><td>17.834</td><td>17.812</td><td>0.022</td><td>NA</td><td>NA</td><td>NA</td><td>NA</td></tr>\n",
       "\t<tr><td>2023-10-04 19:00:00</td><td>0.018</td><td>17.060</td><td>17.833</td><td>17.812</td><td>0.021</td><td>NA</td><td>NA</td><td>NA</td><td>NA</td></tr>\n",
       "\t<tr><td>2023-10-04 20:00:00</td><td>0.017</td><td>17.059</td><td>17.833</td><td>17.812</td><td>0.021</td><td>NA</td><td>NA</td><td>NA</td><td>NA</td></tr>\n",
       "\t<tr><td>2023-10-04 21:00:00</td><td>0.017</td><td>17.058</td><td>17.833</td><td>17.812</td><td>0.021</td><td>NA</td><td>NA</td><td>NA</td><td>NA</td></tr>\n",
       "\t<tr><td>2023-10-04 22:00:00</td><td>0.017</td><td>17.058</td><td>17.833</td><td>17.812</td><td>0.021</td><td>NA</td><td>NA</td><td>NA</td><td>NA</td></tr>\n",
       "\t<tr><td>2023-10-04 23:00:00</td><td>0.017</td><td>17.059</td><td>17.833</td><td>17.812</td><td>0.021</td><td>NA</td><td>NA</td><td>NA</td><td>NA</td></tr>\n",
       "\t<tr><td>2023-10-05 00:00:00</td><td>0.017</td><td>17.059</td><td>17.833</td><td>17.812</td><td>0.021</td><td>NA</td><td>NA</td><td>NA</td><td>NA</td></tr>\n",
       "\t<tr><td>2023-10-05 01:00:00</td><td>0.017</td><td>17.057</td><td>17.833</td><td>17.812</td><td>0.021</td><td>NA</td><td>NA</td><td>NA</td><td>NA</td></tr>\n",
       "\t<tr><td>2023-10-05 02:00:00</td><td>0.017</td><td>17.057</td><td>17.833</td><td>17.812</td><td>0.021</td><td>NA</td><td>NA</td><td>NA</td><td>NA</td></tr>\n",
       "\t<tr><td>2023-10-05 03:00:00</td><td>0.017</td><td>17.056</td><td>17.833</td><td>17.812</td><td>0.021</td><td>NA</td><td>NA</td><td>NA</td><td>NA</td></tr>\n",
       "\t<tr><td>2023-10-05 04:00:00</td><td>0.017</td><td>17.055</td><td>17.833</td><td>17.812</td><td>0.021</td><td>NA</td><td>NA</td><td>NA</td><td>NA</td></tr>\n",
       "\t<tr><td>2023-10-05 05:00:00</td><td>0.017</td><td>17.055</td><td>17.833</td><td>17.812</td><td>0.021</td><td>NA</td><td>NA</td><td>NA</td><td>NA</td></tr>\n",
       "\t<tr><td>2023-10-05 06:00:00</td><td>0.017</td><td>17.054</td><td>17.833</td><td>17.812</td><td>0.021</td><td>NA</td><td>NA</td><td>NA</td><td>NA</td></tr>\n",
       "\t<tr><td>2023-10-05 07:00:00</td><td>0.017</td><td>17.054</td><td>17.833</td><td>17.812</td><td>0.021</td><td>NA</td><td>NA</td><td>NA</td><td>NA</td></tr>\n",
       "\t<tr><td>2023-10-05 08:00:00</td><td>0.016</td><td>17.053</td><td>17.832</td><td>17.812</td><td>0.020</td><td>NA</td><td>NA</td><td>NA</td><td>NA</td></tr>\n",
       "\t<tr><td>2023-10-05 09:00:00</td><td>0.016</td><td>17.052</td><td>17.832</td><td>17.812</td><td>0.020</td><td>NA</td><td>NA</td><td>NA</td><td>NA</td></tr>\n",
       "\t<tr><td>2023-10-05 10:00:00</td><td>0.016</td><td>17.051</td><td>17.832</td><td>17.812</td><td>0.020</td><td>NA</td><td>NA</td><td>NA</td><td>NA</td></tr>\n",
       "\t<tr><td>2023-10-05 11:00:00</td><td>0.015</td><td>17.050</td><td>17.831</td><td>17.812</td><td>0.019</td><td>NA</td><td>NA</td><td>NA</td><td>NA</td></tr>\n",
       "\t<tr><td>2023-10-05 12:00:00</td><td>0.015</td><td>17.049</td><td>17.831</td><td>17.812</td><td>0.019</td><td>NA</td><td>NA</td><td>NA</td><td>NA</td></tr>\n",
       "\t<tr><td>2023-10-05 13:00:00</td><td>0.015</td><td>17.048</td><td>17.831</td><td>17.812</td><td>0.019</td><td>NA</td><td>NA</td><td>NA</td><td>NA</td></tr>\n",
       "\t<tr><td>2023-10-05 14:00:00</td><td>0.015</td><td>17.047</td><td>17.831</td><td>17.812</td><td>0.019</td><td>NA</td><td>NA</td><td>NA</td><td>NA</td></tr>\n",
       "</tbody>\n",
       "</table>\n"
      ],
      "text/latex": [
       "A data.frame: 115008 × 10\n",
       "\\begin{tabular}{llllllllll}\n",
       " Date & Discharge.x & Downstream.x & Upstream.x & Valve.x & h.x & Downstream.y & Upstream.y & Valve.y & h.y\\\\\n",
       " <dttm> & <dbl> & <dbl> & <dbl> & <dbl> & <dbl> & <dbl> & <dbl> & <dbl> & <dbl>\\\\\n",
       "\\hline\n",
       "\t 2010-08-22 15:00:00 & NA & 17.035 & 17.654 & NA & NA & NA & NA & NA & NA\\\\\n",
       "\t 2010-08-22 16:00:00 & NA & 17.034 & 17.654 & NA & NA & NA & NA & NA & NA\\\\\n",
       "\t 2010-08-22 17:00:00 & NA & 17.034 & 17.654 & NA & NA & NA & NA & NA & NA\\\\\n",
       "\t 2010-08-22 18:00:00 & NA & 17.035 & 17.654 & NA & NA & NA & NA & NA & NA\\\\\n",
       "\t 2010-08-22 19:00:00 & NA & 17.035 & 17.655 & NA & NA & NA & NA & NA & NA\\\\\n",
       "\t 2010-08-22 20:00:00 & NA & 17.036 & 17.655 & NA & NA & NA & NA & NA & NA\\\\\n",
       "\t 2010-08-22 21:00:00 & NA & 17.038 & 17.655 & NA & NA & NA & NA & NA & NA\\\\\n",
       "\t 2010-08-22 22:00:00 & NA & 17.048 & 17.658 & NA & NA & NA & NA & NA & NA\\\\\n",
       "\t 2010-08-22 23:00:00 & NA & 17.062 & 17.660 & NA & NA & NA & NA & NA & NA\\\\\n",
       "\t 2010-08-23 00:00:00 & NA & 17.066 & 17.658 & NA & NA & NA & NA & NA & NA\\\\\n",
       "\t 2010-08-23 01:00:00 & NA & 17.067 & 17.659 & NA & NA & NA & NA & NA & NA\\\\\n",
       "\t 2010-08-23 02:00:00 & NA & 17.070 & 17.660 & NA & NA & NA & NA & NA & NA\\\\\n",
       "\t 2010-08-23 03:00:00 & NA & 17.084 & 17.663 & NA & NA & NA & NA & NA & NA\\\\\n",
       "\t 2010-08-23 04:00:00 & NA & 17.112 & 17.668 & NA & NA & NA & NA & NA & NA\\\\\n",
       "\t 2010-08-23 05:00:00 & NA & 17.137 & 17.672 & NA & NA & NA & NA & NA & NA\\\\\n",
       "\t 2010-08-23 06:00:00 & NA & 17.168 & 17.676 & NA & NA & NA & NA & NA & NA\\\\\n",
       "\t 2010-08-23 07:00:00 & NA & 17.196 & 17.679 & NA & NA & NA & NA & NA & NA\\\\\n",
       "\t 2010-08-23 08:00:00 & NA & 17.227 & 17.684 & NA & NA & NA & NA & NA & NA\\\\\n",
       "\t 2010-08-23 09:00:00 & NA & 17.267 & 17.695 & NA & NA & NA & NA & NA & NA\\\\\n",
       "\t 2010-08-23 10:00:00 & NA & 17.329 & 17.712 & NA & NA & NA & NA & NA & NA\\\\\n",
       "\t 2010-08-23 11:00:00 & NA & 17.418 & 17.740 & NA & NA & NA & NA & NA & NA\\\\\n",
       "\t 2010-08-23 12:00:00 & NA & 17.498 & 17.756 & NA & NA & NA & NA & NA & NA\\\\\n",
       "\t 2010-08-23 13:00:00 & NA & 17.540 & 17.759 & NA & NA & NA & NA & NA & NA\\\\\n",
       "\t 2010-08-23 14:00:00 & NA & 17.564 & 17.762 & NA & NA & NA & NA & NA & NA\\\\\n",
       "\t 2010-08-23 15:00:00 & NA & 17.587 & 17.766 & NA & NA & NA & NA & NA & NA\\\\\n",
       "\t 2010-08-23 16:00:00 & NA & 17.606 & 17.767 & NA & NA & NA & NA & NA & NA\\\\\n",
       "\t 2010-08-23 17:00:00 & NA & 17.615 & 17.765 & NA & NA & NA & NA & NA & NA\\\\\n",
       "\t 2010-08-23 18:00:00 & NA & 17.616 & 17.761 & NA & NA & NA & NA & NA & NA\\\\\n",
       "\t 2010-08-23 19:00:00 & NA & 17.613 & 17.757 & NA & NA & NA & NA & NA & NA\\\\\n",
       "\t 2010-08-23 20:00:00 & NA & 17.605 & 17.751 & NA & NA & NA & NA & NA & NA\\\\\n",
       "\t ⋮ & ⋮ & ⋮ & ⋮ & ⋮ & ⋮ & ⋮ & ⋮ & ⋮ & ⋮\\\\\n",
       "\t 2023-10-04 09:00:00 & 0.020 & 17.072 & 17.835 & 17.812 & 0.023 & NA & NA & NA & NA\\\\\n",
       "\t 2023-10-04 10:00:00 & 0.020 & 17.072 & 17.835 & 17.812 & 0.023 & NA & NA & NA & NA\\\\\n",
       "\t 2023-10-04 11:00:00 & 0.019 & 17.071 & 17.835 & 17.812 & 0.023 & NA & NA & NA & NA\\\\\n",
       "\t 2023-10-04 12:00:00 & 0.019 & 17.069 & 17.835 & 17.812 & 0.023 & NA & NA & NA & NA\\\\\n",
       "\t 2023-10-04 13:00:00 & 0.018 & 17.068 & 17.834 & 17.812 & 0.022 & NA & NA & NA & NA\\\\\n",
       "\t 2023-10-04 14:00:00 & 0.018 & 17.066 & 17.834 & 17.812 & 0.022 & NA & NA & NA & NA\\\\\n",
       "\t 2023-10-04 15:00:00 & 0.018 & 17.065 & 17.834 & 17.812 & 0.022 & NA & NA & NA & NA\\\\\n",
       "\t 2023-10-04 16:00:00 & 0.017 & 17.063 & 17.833 & 17.812 & 0.021 & NA & NA & NA & NA\\\\\n",
       "\t 2023-10-04 17:00:00 & 0.018 & 17.062 & 17.834 & 17.812 & 0.022 & NA & NA & NA & NA\\\\\n",
       "\t 2023-10-04 18:00:00 & 0.018 & 17.061 & 17.834 & 17.812 & 0.022 & NA & NA & NA & NA\\\\\n",
       "\t 2023-10-04 19:00:00 & 0.018 & 17.060 & 17.833 & 17.812 & 0.021 & NA & NA & NA & NA\\\\\n",
       "\t 2023-10-04 20:00:00 & 0.017 & 17.059 & 17.833 & 17.812 & 0.021 & NA & NA & NA & NA\\\\\n",
       "\t 2023-10-04 21:00:00 & 0.017 & 17.058 & 17.833 & 17.812 & 0.021 & NA & NA & NA & NA\\\\\n",
       "\t 2023-10-04 22:00:00 & 0.017 & 17.058 & 17.833 & 17.812 & 0.021 & NA & NA & NA & NA\\\\\n",
       "\t 2023-10-04 23:00:00 & 0.017 & 17.059 & 17.833 & 17.812 & 0.021 & NA & NA & NA & NA\\\\\n",
       "\t 2023-10-05 00:00:00 & 0.017 & 17.059 & 17.833 & 17.812 & 0.021 & NA & NA & NA & NA\\\\\n",
       "\t 2023-10-05 01:00:00 & 0.017 & 17.057 & 17.833 & 17.812 & 0.021 & NA & NA & NA & NA\\\\\n",
       "\t 2023-10-05 02:00:00 & 0.017 & 17.057 & 17.833 & 17.812 & 0.021 & NA & NA & NA & NA\\\\\n",
       "\t 2023-10-05 03:00:00 & 0.017 & 17.056 & 17.833 & 17.812 & 0.021 & NA & NA & NA & NA\\\\\n",
       "\t 2023-10-05 04:00:00 & 0.017 & 17.055 & 17.833 & 17.812 & 0.021 & NA & NA & NA & NA\\\\\n",
       "\t 2023-10-05 05:00:00 & 0.017 & 17.055 & 17.833 & 17.812 & 0.021 & NA & NA & NA & NA\\\\\n",
       "\t 2023-10-05 06:00:00 & 0.017 & 17.054 & 17.833 & 17.812 & 0.021 & NA & NA & NA & NA\\\\\n",
       "\t 2023-10-05 07:00:00 & 0.017 & 17.054 & 17.833 & 17.812 & 0.021 & NA & NA & NA & NA\\\\\n",
       "\t 2023-10-05 08:00:00 & 0.016 & 17.053 & 17.832 & 17.812 & 0.020 & NA & NA & NA & NA\\\\\n",
       "\t 2023-10-05 09:00:00 & 0.016 & 17.052 & 17.832 & 17.812 & 0.020 & NA & NA & NA & NA\\\\\n",
       "\t 2023-10-05 10:00:00 & 0.016 & 17.051 & 17.832 & 17.812 & 0.020 & NA & NA & NA & NA\\\\\n",
       "\t 2023-10-05 11:00:00 & 0.015 & 17.050 & 17.831 & 17.812 & 0.019 & NA & NA & NA & NA\\\\\n",
       "\t 2023-10-05 12:00:00 & 0.015 & 17.049 & 17.831 & 17.812 & 0.019 & NA & NA & NA & NA\\\\\n",
       "\t 2023-10-05 13:00:00 & 0.015 & 17.048 & 17.831 & 17.812 & 0.019 & NA & NA & NA & NA\\\\\n",
       "\t 2023-10-05 14:00:00 & 0.015 & 17.047 & 17.831 & 17.812 & 0.019 & NA & NA & NA & NA\\\\\n",
       "\\end{tabular}\n"
      ],
      "text/markdown": [
       "\n",
       "A data.frame: 115008 × 10\n",
       "\n",
       "| Date &lt;dttm&gt; | Discharge.x &lt;dbl&gt; | Downstream.x &lt;dbl&gt; | Upstream.x &lt;dbl&gt; | Valve.x &lt;dbl&gt; | h.x &lt;dbl&gt; | Downstream.y &lt;dbl&gt; | Upstream.y &lt;dbl&gt; | Valve.y &lt;dbl&gt; | h.y &lt;dbl&gt; |\n",
       "|---|---|---|---|---|---|---|---|---|---|\n",
       "| 2010-08-22 15:00:00 | NA | 17.035 | 17.654 | NA | NA | NA | NA | NA | NA |\n",
       "| 2010-08-22 16:00:00 | NA | 17.034 | 17.654 | NA | NA | NA | NA | NA | NA |\n",
       "| 2010-08-22 17:00:00 | NA | 17.034 | 17.654 | NA | NA | NA | NA | NA | NA |\n",
       "| 2010-08-22 18:00:00 | NA | 17.035 | 17.654 | NA | NA | NA | NA | NA | NA |\n",
       "| 2010-08-22 19:00:00 | NA | 17.035 | 17.655 | NA | NA | NA | NA | NA | NA |\n",
       "| 2010-08-22 20:00:00 | NA | 17.036 | 17.655 | NA | NA | NA | NA | NA | NA |\n",
       "| 2010-08-22 21:00:00 | NA | 17.038 | 17.655 | NA | NA | NA | NA | NA | NA |\n",
       "| 2010-08-22 22:00:00 | NA | 17.048 | 17.658 | NA | NA | NA | NA | NA | NA |\n",
       "| 2010-08-22 23:00:00 | NA | 17.062 | 17.660 | NA | NA | NA | NA | NA | NA |\n",
       "| 2010-08-23 00:00:00 | NA | 17.066 | 17.658 | NA | NA | NA | NA | NA | NA |\n",
       "| 2010-08-23 01:00:00 | NA | 17.067 | 17.659 | NA | NA | NA | NA | NA | NA |\n",
       "| 2010-08-23 02:00:00 | NA | 17.070 | 17.660 | NA | NA | NA | NA | NA | NA |\n",
       "| 2010-08-23 03:00:00 | NA | 17.084 | 17.663 | NA | NA | NA | NA | NA | NA |\n",
       "| 2010-08-23 04:00:00 | NA | 17.112 | 17.668 | NA | NA | NA | NA | NA | NA |\n",
       "| 2010-08-23 05:00:00 | NA | 17.137 | 17.672 | NA | NA | NA | NA | NA | NA |\n",
       "| 2010-08-23 06:00:00 | NA | 17.168 | 17.676 | NA | NA | NA | NA | NA | NA |\n",
       "| 2010-08-23 07:00:00 | NA | 17.196 | 17.679 | NA | NA | NA | NA | NA | NA |\n",
       "| 2010-08-23 08:00:00 | NA | 17.227 | 17.684 | NA | NA | NA | NA | NA | NA |\n",
       "| 2010-08-23 09:00:00 | NA | 17.267 | 17.695 | NA | NA | NA | NA | NA | NA |\n",
       "| 2010-08-23 10:00:00 | NA | 17.329 | 17.712 | NA | NA | NA | NA | NA | NA |\n",
       "| 2010-08-23 11:00:00 | NA | 17.418 | 17.740 | NA | NA | NA | NA | NA | NA |\n",
       "| 2010-08-23 12:00:00 | NA | 17.498 | 17.756 | NA | NA | NA | NA | NA | NA |\n",
       "| 2010-08-23 13:00:00 | NA | 17.540 | 17.759 | NA | NA | NA | NA | NA | NA |\n",
       "| 2010-08-23 14:00:00 | NA | 17.564 | 17.762 | NA | NA | NA | NA | NA | NA |\n",
       "| 2010-08-23 15:00:00 | NA | 17.587 | 17.766 | NA | NA | NA | NA | NA | NA |\n",
       "| 2010-08-23 16:00:00 | NA | 17.606 | 17.767 | NA | NA | NA | NA | NA | NA |\n",
       "| 2010-08-23 17:00:00 | NA | 17.615 | 17.765 | NA | NA | NA | NA | NA | NA |\n",
       "| 2010-08-23 18:00:00 | NA | 17.616 | 17.761 | NA | NA | NA | NA | NA | NA |\n",
       "| 2010-08-23 19:00:00 | NA | 17.613 | 17.757 | NA | NA | NA | NA | NA | NA |\n",
       "| 2010-08-23 20:00:00 | NA | 17.605 | 17.751 | NA | NA | NA | NA | NA | NA |\n",
       "| ⋮ | ⋮ | ⋮ | ⋮ | ⋮ | ⋮ | ⋮ | ⋮ | ⋮ | ⋮ |\n",
       "| 2023-10-04 09:00:00 | 0.020 | 17.072 | 17.835 | 17.812 | 0.023 | NA | NA | NA | NA |\n",
       "| 2023-10-04 10:00:00 | 0.020 | 17.072 | 17.835 | 17.812 | 0.023 | NA | NA | NA | NA |\n",
       "| 2023-10-04 11:00:00 | 0.019 | 17.071 | 17.835 | 17.812 | 0.023 | NA | NA | NA | NA |\n",
       "| 2023-10-04 12:00:00 | 0.019 | 17.069 | 17.835 | 17.812 | 0.023 | NA | NA | NA | NA |\n",
       "| 2023-10-04 13:00:00 | 0.018 | 17.068 | 17.834 | 17.812 | 0.022 | NA | NA | NA | NA |\n",
       "| 2023-10-04 14:00:00 | 0.018 | 17.066 | 17.834 | 17.812 | 0.022 | NA | NA | NA | NA |\n",
       "| 2023-10-04 15:00:00 | 0.018 | 17.065 | 17.834 | 17.812 | 0.022 | NA | NA | NA | NA |\n",
       "| 2023-10-04 16:00:00 | 0.017 | 17.063 | 17.833 | 17.812 | 0.021 | NA | NA | NA | NA |\n",
       "| 2023-10-04 17:00:00 | 0.018 | 17.062 | 17.834 | 17.812 | 0.022 | NA | NA | NA | NA |\n",
       "| 2023-10-04 18:00:00 | 0.018 | 17.061 | 17.834 | 17.812 | 0.022 | NA | NA | NA | NA |\n",
       "| 2023-10-04 19:00:00 | 0.018 | 17.060 | 17.833 | 17.812 | 0.021 | NA | NA | NA | NA |\n",
       "| 2023-10-04 20:00:00 | 0.017 | 17.059 | 17.833 | 17.812 | 0.021 | NA | NA | NA | NA |\n",
       "| 2023-10-04 21:00:00 | 0.017 | 17.058 | 17.833 | 17.812 | 0.021 | NA | NA | NA | NA |\n",
       "| 2023-10-04 22:00:00 | 0.017 | 17.058 | 17.833 | 17.812 | 0.021 | NA | NA | NA | NA |\n",
       "| 2023-10-04 23:00:00 | 0.017 | 17.059 | 17.833 | 17.812 | 0.021 | NA | NA | NA | NA |\n",
       "| 2023-10-05 00:00:00 | 0.017 | 17.059 | 17.833 | 17.812 | 0.021 | NA | NA | NA | NA |\n",
       "| 2023-10-05 01:00:00 | 0.017 | 17.057 | 17.833 | 17.812 | 0.021 | NA | NA | NA | NA |\n",
       "| 2023-10-05 02:00:00 | 0.017 | 17.057 | 17.833 | 17.812 | 0.021 | NA | NA | NA | NA |\n",
       "| 2023-10-05 03:00:00 | 0.017 | 17.056 | 17.833 | 17.812 | 0.021 | NA | NA | NA | NA |\n",
       "| 2023-10-05 04:00:00 | 0.017 | 17.055 | 17.833 | 17.812 | 0.021 | NA | NA | NA | NA |\n",
       "| 2023-10-05 05:00:00 | 0.017 | 17.055 | 17.833 | 17.812 | 0.021 | NA | NA | NA | NA |\n",
       "| 2023-10-05 06:00:00 | 0.017 | 17.054 | 17.833 | 17.812 | 0.021 | NA | NA | NA | NA |\n",
       "| 2023-10-05 07:00:00 | 0.017 | 17.054 | 17.833 | 17.812 | 0.021 | NA | NA | NA | NA |\n",
       "| 2023-10-05 08:00:00 | 0.016 | 17.053 | 17.832 | 17.812 | 0.020 | NA | NA | NA | NA |\n",
       "| 2023-10-05 09:00:00 | 0.016 | 17.052 | 17.832 | 17.812 | 0.020 | NA | NA | NA | NA |\n",
       "| 2023-10-05 10:00:00 | 0.016 | 17.051 | 17.832 | 17.812 | 0.020 | NA | NA | NA | NA |\n",
       "| 2023-10-05 11:00:00 | 0.015 | 17.050 | 17.831 | 17.812 | 0.019 | NA | NA | NA | NA |\n",
       "| 2023-10-05 12:00:00 | 0.015 | 17.049 | 17.831 | 17.812 | 0.019 | NA | NA | NA | NA |\n",
       "| 2023-10-05 13:00:00 | 0.015 | 17.048 | 17.831 | 17.812 | 0.019 | NA | NA | NA | NA |\n",
       "| 2023-10-05 14:00:00 | 0.015 | 17.047 | 17.831 | 17.812 | 0.019 | NA | NA | NA | NA |\n",
       "\n"
      ],
      "text/plain": [
       "       Date                Discharge.x Downstream.x Upstream.x Valve.x h.x  \n",
       "1      2010-08-22 15:00:00 NA          17.035       17.654     NA      NA   \n",
       "2      2010-08-22 16:00:00 NA          17.034       17.654     NA      NA   \n",
       "3      2010-08-22 17:00:00 NA          17.034       17.654     NA      NA   \n",
       "4      2010-08-22 18:00:00 NA          17.035       17.654     NA      NA   \n",
       "5      2010-08-22 19:00:00 NA          17.035       17.655     NA      NA   \n",
       "6      2010-08-22 20:00:00 NA          17.036       17.655     NA      NA   \n",
       "7      2010-08-22 21:00:00 NA          17.038       17.655     NA      NA   \n",
       "8      2010-08-22 22:00:00 NA          17.048       17.658     NA      NA   \n",
       "9      2010-08-22 23:00:00 NA          17.062       17.660     NA      NA   \n",
       "10     2010-08-23 00:00:00 NA          17.066       17.658     NA      NA   \n",
       "11     2010-08-23 01:00:00 NA          17.067       17.659     NA      NA   \n",
       "12     2010-08-23 02:00:00 NA          17.070       17.660     NA      NA   \n",
       "13     2010-08-23 03:00:00 NA          17.084       17.663     NA      NA   \n",
       "14     2010-08-23 04:00:00 NA          17.112       17.668     NA      NA   \n",
       "15     2010-08-23 05:00:00 NA          17.137       17.672     NA      NA   \n",
       "16     2010-08-23 06:00:00 NA          17.168       17.676     NA      NA   \n",
       "17     2010-08-23 07:00:00 NA          17.196       17.679     NA      NA   \n",
       "18     2010-08-23 08:00:00 NA          17.227       17.684     NA      NA   \n",
       "19     2010-08-23 09:00:00 NA          17.267       17.695     NA      NA   \n",
       "20     2010-08-23 10:00:00 NA          17.329       17.712     NA      NA   \n",
       "21     2010-08-23 11:00:00 NA          17.418       17.740     NA      NA   \n",
       "22     2010-08-23 12:00:00 NA          17.498       17.756     NA      NA   \n",
       "23     2010-08-23 13:00:00 NA          17.540       17.759     NA      NA   \n",
       "24     2010-08-23 14:00:00 NA          17.564       17.762     NA      NA   \n",
       "25     2010-08-23 15:00:00 NA          17.587       17.766     NA      NA   \n",
       "26     2010-08-23 16:00:00 NA          17.606       17.767     NA      NA   \n",
       "27     2010-08-23 17:00:00 NA          17.615       17.765     NA      NA   \n",
       "28     2010-08-23 18:00:00 NA          17.616       17.761     NA      NA   \n",
       "29     2010-08-23 19:00:00 NA          17.613       17.757     NA      NA   \n",
       "30     2010-08-23 20:00:00 NA          17.605       17.751     NA      NA   \n",
       "⋮      ⋮                   ⋮           ⋮            ⋮          ⋮       ⋮    \n",
       "114979 2023-10-04 09:00:00 0.020       17.072       17.835     17.812  0.023\n",
       "114980 2023-10-04 10:00:00 0.020       17.072       17.835     17.812  0.023\n",
       "114981 2023-10-04 11:00:00 0.019       17.071       17.835     17.812  0.023\n",
       "114982 2023-10-04 12:00:00 0.019       17.069       17.835     17.812  0.023\n",
       "114983 2023-10-04 13:00:00 0.018       17.068       17.834     17.812  0.022\n",
       "114984 2023-10-04 14:00:00 0.018       17.066       17.834     17.812  0.022\n",
       "114985 2023-10-04 15:00:00 0.018       17.065       17.834     17.812  0.022\n",
       "114986 2023-10-04 16:00:00 0.017       17.063       17.833     17.812  0.021\n",
       "114987 2023-10-04 17:00:00 0.018       17.062       17.834     17.812  0.022\n",
       "114988 2023-10-04 18:00:00 0.018       17.061       17.834     17.812  0.022\n",
       "114989 2023-10-04 19:00:00 0.018       17.060       17.833     17.812  0.021\n",
       "114990 2023-10-04 20:00:00 0.017       17.059       17.833     17.812  0.021\n",
       "114991 2023-10-04 21:00:00 0.017       17.058       17.833     17.812  0.021\n",
       "114992 2023-10-04 22:00:00 0.017       17.058       17.833     17.812  0.021\n",
       "114993 2023-10-04 23:00:00 0.017       17.059       17.833     17.812  0.021\n",
       "114994 2023-10-05 00:00:00 0.017       17.059       17.833     17.812  0.021\n",
       "114995 2023-10-05 01:00:00 0.017       17.057       17.833     17.812  0.021\n",
       "114996 2023-10-05 02:00:00 0.017       17.057       17.833     17.812  0.021\n",
       "114997 2023-10-05 03:00:00 0.017       17.056       17.833     17.812  0.021\n",
       "114998 2023-10-05 04:00:00 0.017       17.055       17.833     17.812  0.021\n",
       "114999 2023-10-05 05:00:00 0.017       17.055       17.833     17.812  0.021\n",
       "115000 2023-10-05 06:00:00 0.017       17.054       17.833     17.812  0.021\n",
       "115001 2023-10-05 07:00:00 0.017       17.054       17.833     17.812  0.021\n",
       "115002 2023-10-05 08:00:00 0.016       17.053       17.832     17.812  0.020\n",
       "115003 2023-10-05 09:00:00 0.016       17.052       17.832     17.812  0.020\n",
       "115004 2023-10-05 10:00:00 0.016       17.051       17.832     17.812  0.020\n",
       "115005 2023-10-05 11:00:00 0.015       17.050       17.831     17.812  0.019\n",
       "115006 2023-10-05 12:00:00 0.015       17.049       17.831     17.812  0.019\n",
       "115007 2023-10-05 13:00:00 0.015       17.048       17.831     17.812  0.019\n",
       "115008 2023-10-05 14:00:00 0.015       17.047       17.831     17.812  0.019\n",
       "       Downstream.y Upstream.y Valve.y h.y\n",
       "1      NA           NA         NA      NA \n",
       "2      NA           NA         NA      NA \n",
       "3      NA           NA         NA      NA \n",
       "4      NA           NA         NA      NA \n",
       "5      NA           NA         NA      NA \n",
       "6      NA           NA         NA      NA \n",
       "7      NA           NA         NA      NA \n",
       "8      NA           NA         NA      NA \n",
       "9      NA           NA         NA      NA \n",
       "10     NA           NA         NA      NA \n",
       "11     NA           NA         NA      NA \n",
       "12     NA           NA         NA      NA \n",
       "13     NA           NA         NA      NA \n",
       "14     NA           NA         NA      NA \n",
       "15     NA           NA         NA      NA \n",
       "16     NA           NA         NA      NA \n",
       "17     NA           NA         NA      NA \n",
       "18     NA           NA         NA      NA \n",
       "19     NA           NA         NA      NA \n",
       "20     NA           NA         NA      NA \n",
       "21     NA           NA         NA      NA \n",
       "22     NA           NA         NA      NA \n",
       "23     NA           NA         NA      NA \n",
       "24     NA           NA         NA      NA \n",
       "25     NA           NA         NA      NA \n",
       "26     NA           NA         NA      NA \n",
       "27     NA           NA         NA      NA \n",
       "28     NA           NA         NA      NA \n",
       "29     NA           NA         NA      NA \n",
       "30     NA           NA         NA      NA \n",
       "⋮      ⋮            ⋮          ⋮       ⋮  \n",
       "114979 NA           NA         NA      NA \n",
       "114980 NA           NA         NA      NA \n",
       "114981 NA           NA         NA      NA \n",
       "114982 NA           NA         NA      NA \n",
       "114983 NA           NA         NA      NA \n",
       "114984 NA           NA         NA      NA \n",
       "114985 NA           NA         NA      NA \n",
       "114986 NA           NA         NA      NA \n",
       "114987 NA           NA         NA      NA \n",
       "114988 NA           NA         NA      NA \n",
       "114989 NA           NA         NA      NA \n",
       "114990 NA           NA         NA      NA \n",
       "114991 NA           NA         NA      NA \n",
       "114992 NA           NA         NA      NA \n",
       "114993 NA           NA         NA      NA \n",
       "114994 NA           NA         NA      NA \n",
       "114995 NA           NA         NA      NA \n",
       "114996 NA           NA         NA      NA \n",
       "114997 NA           NA         NA      NA \n",
       "114998 NA           NA         NA      NA \n",
       "114999 NA           NA         NA      NA \n",
       "115000 NA           NA         NA      NA \n",
       "115001 NA           NA         NA      NA \n",
       "115002 NA           NA         NA      NA \n",
       "115003 NA           NA         NA      NA \n",
       "115004 NA           NA         NA      NA \n",
       "115005 NA           NA         NA      NA \n",
       "115006 NA           NA         NA      NA \n",
       "115007 NA           NA         NA      NA \n",
       "115008 NA           NA         NA      NA "
      ]
     },
     "metadata": {},
     "output_type": "display_data"
    }
   ],
   "source": [
    "full_data$h = full_data$Upstream - full_data$Valve\n",
    "\n",
    "filter_data = full_data[is.na(full_data$Discharge) & !is.na(full_data$h),]\n",
    "\n",
    "a = data.frame(h=filter_data$h)\n",
    "\n",
    "filter_data$Discharge = predict(lm_model, newdata = a)\n",
    "\n",
    "fully_data = left_join(full_data, filter_data, by = \"Date\")\n",
    "\n",
    "fully_data <- fully_data %>%\n",
    "  mutate(Discharge.x = ifelse(!is.na(Discharge.y), Discharge.y, Discharge.x)) %>%\n",
    "  select(-Discharge.y)  # Remove the extra column\n",
    "  #mutate(Downstream.x = Downstream.x) %>%\n",
    "  #select(-Downstream.y)\n",
    "  #select(-Upstream.y)\n",
    "  #select(-Valve.y)\n",
    "  #select(-H.y)\n",
    "\n",
    "fully_data"
   ]
  },
  {
   "cell_type": "code",
   "execution_count": 106,
   "id": "900825eb",
   "metadata": {},
   "outputs": [
    {
     "data": {
      "text/html": [
       "<table class=\"dataframe\">\n",
       "<caption>A data.frame: 4 × 2</caption>\n",
       "<thead>\n",
       "\t<tr><th scope=col>id</th><th scope=col>value</th></tr>\n",
       "\t<tr><th scope=col>&lt;dbl&gt;</th><th scope=col>&lt;chr&gt;</th></tr>\n",
       "</thead>\n",
       "<tbody>\n",
       "\t<tr><td>1</td><td>A</td></tr>\n",
       "\t<tr><td>2</td><td>B</td></tr>\n",
       "\t<tr><td>3</td><td>C</td></tr>\n",
       "\t<tr><td>4</td><td>D</td></tr>\n",
       "</tbody>\n",
       "</table>\n"
      ],
      "text/latex": [
       "A data.frame: 4 × 2\n",
       "\\begin{tabular}{ll}\n",
       " id & value\\\\\n",
       " <dbl> & <chr>\\\\\n",
       "\\hline\n",
       "\t 1 & A\\\\\n",
       "\t 2 & B\\\\\n",
       "\t 3 & C\\\\\n",
       "\t 4 & D\\\\\n",
       "\\end{tabular}\n"
      ],
      "text/markdown": [
       "\n",
       "A data.frame: 4 × 2\n",
       "\n",
       "| id &lt;dbl&gt; | value &lt;chr&gt; |\n",
       "|---|---|\n",
       "| 1 | A |\n",
       "| 2 | B |\n",
       "| 3 | C |\n",
       "| 4 | D |\n",
       "\n"
      ],
      "text/plain": [
       "  id value\n",
       "1 1  A    \n",
       "2 2  B    \n",
       "3 3  C    \n",
       "4 4  D    "
      ]
     },
     "metadata": {},
     "output_type": "display_data"
    },
    {
     "data": {
      "text/html": [
       "<table class=\"dataframe\">\n",
       "<caption>A data.frame: 2 × 2</caption>\n",
       "<thead>\n",
       "\t<tr><th scope=col>id</th><th scope=col>value</th></tr>\n",
       "\t<tr><th scope=col>&lt;dbl&gt;</th><th scope=col>&lt;chr&gt;</th></tr>\n",
       "</thead>\n",
       "<tbody>\n",
       "\t<tr><td>2</td><td>X</td></tr>\n",
       "\t<tr><td>3</td><td>Y</td></tr>\n",
       "</tbody>\n",
       "</table>\n"
      ],
      "text/latex": [
       "A data.frame: 2 × 2\n",
       "\\begin{tabular}{ll}\n",
       " id & value\\\\\n",
       " <dbl> & <chr>\\\\\n",
       "\\hline\n",
       "\t 2 & X\\\\\n",
       "\t 3 & Y\\\\\n",
       "\\end{tabular}\n"
      ],
      "text/markdown": [
       "\n",
       "A data.frame: 2 × 2\n",
       "\n",
       "| id &lt;dbl&gt; | value &lt;chr&gt; |\n",
       "|---|---|\n",
       "| 2 | X |\n",
       "| 3 | Y |\n",
       "\n"
      ],
      "text/plain": [
       "  id value\n",
       "1 2  X    \n",
       "2 3  Y    "
      ]
     },
     "metadata": {},
     "output_type": "display_data"
    },
    {
     "data": {
      "text/html": [
       "<table class=\"dataframe\">\n",
       "<caption>A data.frame: 4 × 3</caption>\n",
       "<thead>\n",
       "\t<tr><th scope=col>id</th><th scope=col>value.x</th><th scope=col>value.y</th></tr>\n",
       "\t<tr><th scope=col>&lt;dbl&gt;</th><th scope=col>&lt;chr&gt;</th><th scope=col>&lt;chr&gt;</th></tr>\n",
       "</thead>\n",
       "<tbody>\n",
       "\t<tr><td>1</td><td>A</td><td>NA</td></tr>\n",
       "\t<tr><td>2</td><td>B</td><td>X </td></tr>\n",
       "\t<tr><td>3</td><td>C</td><td>Y </td></tr>\n",
       "\t<tr><td>4</td><td>D</td><td>NA</td></tr>\n",
       "</tbody>\n",
       "</table>\n"
      ],
      "text/latex": [
       "A data.frame: 4 × 3\n",
       "\\begin{tabular}{lll}\n",
       " id & value.x & value.y\\\\\n",
       " <dbl> & <chr> & <chr>\\\\\n",
       "\\hline\n",
       "\t 1 & A & NA\\\\\n",
       "\t 2 & B & X \\\\\n",
       "\t 3 & C & Y \\\\\n",
       "\t 4 & D & NA\\\\\n",
       "\\end{tabular}\n"
      ],
      "text/markdown": [
       "\n",
       "A data.frame: 4 × 3\n",
       "\n",
       "| id &lt;dbl&gt; | value.x &lt;chr&gt; | value.y &lt;chr&gt; |\n",
       "|---|---|---|\n",
       "| 1 | A | NA |\n",
       "| 2 | B | X  |\n",
       "| 3 | C | Y  |\n",
       "| 4 | D | NA |\n",
       "\n"
      ],
      "text/plain": [
       "  id value.x value.y\n",
       "1 1  A       NA     \n",
       "2 2  B       X      \n",
       "3 3  C       Y      \n",
       "4 4  D       NA     "
      ]
     },
     "metadata": {},
     "output_type": "display_data"
    },
    {
     "data": {
      "text/html": [
       "<table class=\"dataframe\">\n",
       "<caption>A data.frame: 4 × 2</caption>\n",
       "<thead>\n",
       "\t<tr><th scope=col>id</th><th scope=col>value.x</th></tr>\n",
       "\t<tr><th scope=col>&lt;dbl&gt;</th><th scope=col>&lt;chr&gt;</th></tr>\n",
       "</thead>\n",
       "<tbody>\n",
       "\t<tr><td>1</td><td>A</td></tr>\n",
       "\t<tr><td>2</td><td>X</td></tr>\n",
       "\t<tr><td>3</td><td>Y</td></tr>\n",
       "\t<tr><td>4</td><td>D</td></tr>\n",
       "</tbody>\n",
       "</table>\n"
      ],
      "text/latex": [
       "A data.frame: 4 × 2\n",
       "\\begin{tabular}{ll}\n",
       " id & value.x\\\\\n",
       " <dbl> & <chr>\\\\\n",
       "\\hline\n",
       "\t 1 & A\\\\\n",
       "\t 2 & X\\\\\n",
       "\t 3 & Y\\\\\n",
       "\t 4 & D\\\\\n",
       "\\end{tabular}\n"
      ],
      "text/markdown": [
       "\n",
       "A data.frame: 4 × 2\n",
       "\n",
       "| id &lt;dbl&gt; | value.x &lt;chr&gt; |\n",
       "|---|---|\n",
       "| 1 | A |\n",
       "| 2 | X |\n",
       "| 3 | Y |\n",
       "| 4 | D |\n",
       "\n"
      ],
      "text/plain": [
       "  id value.x\n",
       "1 1  A      \n",
       "2 2  X      \n",
       "3 3  Y      \n",
       "4 4  D      "
      ]
     },
     "metadata": {},
     "output_type": "display_data"
    }
   ],
   "source": [
    "# Sample dataframes\n",
    "df1 <- data.frame(id = c(1, 2, 3, 4),\n",
    "                  value = c(\"A\", \"B\", \"C\", \"D\"))\n",
    "\n",
    "df2 <- data.frame(id = c(2, 3),\n",
    "                  value = c(\"X\", \"Y\"))\n",
    "\n",
    "df1\n",
    "df2\n",
    "# Perform left join based on the 'id' column\n",
    "result_df <- left_join(df1, df2, by = \"id\")\n",
    "\n",
    "result_df\n",
    "# Replace values in 'value.x' with corresponding values from 'value.y'\n",
    "result_df <- result_df %>%\n",
    "  mutate(value.x = ifelse(!is.na(value.y), value.y, value.x)) %>%\n",
    "  select(-value.y)  # Remove the extra column\n",
    "\n",
    "# Print the result\n",
    "result_df"
   ]
  },
  {
   "cell_type": "code",
   "execution_count": 97,
   "id": "589b05f2",
   "metadata": {},
   "outputs": [
    {
     "name": "stdout",
     "output_type": "stream",
     "text": [
      "[1] 1 2 4 5\n"
     ]
    }
   ],
   "source": [
    "# Sample dataframe\n",
    "df <- data.frame(A = c(1, 2, 3, 4, 5))\n",
    "\n",
    "# Filter rows where column A is not equal to 3\n",
    "filtered_df <- df[df$A != 3, ]\n",
    "\n",
    "# Output the filtered dataframe\n",
    "print(filtered_df)"
   ]
  },
  {
   "cell_type": "code",
   "execution_count": 98,
   "id": "3be131f4",
   "metadata": {
    "scrolled": true
   },
   "outputs": [],
   "source": [
    "#start and end period\n",
    "start = \"2015-01-01\"\n",
    "end = \"2018-01-01\""
   ]
  },
  {
   "cell_type": "code",
   "execution_count": 99,
   "id": "2dbdcfa2",
   "metadata": {
    "scrolled": true
   },
   "outputs": [
    {
     "name": "stderr",
     "output_type": "stream",
     "text": [
      "Warning message:\n",
      "\"\u001b[1m\u001b[22mRemoved 13 rows containing missing values (`geom_line()`).\"\n",
      "Warning message:\n",
      "\"\u001b[1m\u001b[22mRemoved 13 rows containing missing values (`geom_line()`).\"\n"
     ]
    },
    {
     "data": {
      "image/png": "[encoded data removed]",
      "text/plain": [
       "plot without title"
      ]
     },
     "metadata": {
      "image/png": {
       "height": 420,
       "width": 900
      }
     },
     "output_type": "display_data"
    },
    {
     "name": "stderr",
     "output_type": "stream",
     "text": [
      "Warning message:\n",
      "\"\u001b[1m\u001b[22mRemoved 13 rows containing missing values (`geom_line()`).\"\n"
     ]
    },
    {
     "data": {
      "image/png": "[encoded data removed]",
      "text/plain": [
       "plot without title"
      ]
     },
     "metadata": {
      "image/png": {
       "height": 420,
       "width": 900
      }
     },
     "output_type": "display_data"
    },
    {
     "name": "stderr",
     "output_type": "stream",
     "text": [
      "Warning message:\n",
      "\"\u001b[1m\u001b[22mRemoved 12 rows containing missing values (`geom_line()`).\"\n"
     ]
    },
    {
     "data": {
      "image/png": "[encoded data removed]",
      "text/plain": [
       "plot without title"
      ]
     },
     "metadata": {
      "image/png": {
       "height": 420,
       "width": 900
      }
     },
     "output_type": "display_data"
    },
    {
     "data": {
      "image/png": "[encoded data removed]",
      "text/plain": [
       "plot without title"
      ]
     },
     "metadata": {
      "image/png": {
       "height": 420,
       "width": 900
      }
     },
     "output_type": "display_data"
    }
   ],
   "source": [
    "#plotting\n",
    "options(repr.plot.width = 15)\n",
    "\n",
    "discharge_subset <- discharge[discharge$Date >= as.POSIXlt(start) & discharge$Date <= as.POSIXlt(end), ]\n",
    "downstream_subset <- downstream[downstream$Date >= as.POSIXlt(start) & downstream$Date <= as.POSIXlt(end), ]\n",
    "upstream_subset <- upstream[upstream$Date >= as.POSIXlt(start) & upstream$Date <= as.POSIXlt(end), ]\n",
    "valve_subset <- valve[valve$Date >= as.POSIXlt(start) & valve$Date <= as.POSIXlt(end), ]\n",
    "\n",
    "#plotting ggplot\n",
    "ggplot(discharge_subset, aes(x = as.Date(Date), y = Value)) +\n",
    "  geom_line() +\n",
    "  labs(y = \"Discharge\", x = \"Date\") +\n",
    "  scale_x_date(date_labels = \"%b %Y\", date_breaks = \"6 months\")\n",
    "\n",
    "ggplot(downstream_subset, aes(x = as.Date(Date), y = Value)) +\n",
    "  geom_line() +\n",
    "  labs(y = \"Downstream\", x = \"Date\") +\n",
    "  scale_x_date(date_labels = \"%b %Y\", date_breaks = \"6 months\")\n",
    "\n",
    "ggplot(upstream_subset, aes(x = as.Date(Date), y = Value)) +\n",
    "  geom_line() +\n",
    "  labs(y = \"Upstream\", x = \"Date\") +\n",
    "  scale_x_date(date_labels = \"%b %Y\", date_breaks = \"6 months\")\n",
    "\n",
    "ggplot(valve_subset, aes(x = as.Date(Date), y = Value)) +\n",
    "  geom_line() +\n",
    "  labs(y = \"Valve\", x = \"Date\") +\n",
    "  scale_x_date(date_labels = \"%b %Y\", date_breaks = \"6 months\")\n"
   ]
  },
  {
   "cell_type": "code",
   "execution_count": 100,
   "id": "6cad14b5",
   "metadata": {
    "scrolled": true
   },
   "outputs": [
    {
     "data": {
      "image/png": "[encoded data removed]",
      "text/plain": [
       "plot without title"
      ]
     },
     "metadata": {
      "image/png": {
       "height": 420,
       "width": 900
      }
     },
     "output_type": "display_data"
    }
   ],
   "source": [
    "boxplot(full_data$Discharge,full_data$Downstream)"
   ]
  }
 ],
 "metadata": {
  "kernelspec": {
   "display_name": "R",
   "language": "R",
   "name": "ir"
  },
  "language_info": {
   "codemirror_mode": "r",
   "file_extension": ".r",
   "mimetype": "text/x-r-source",
   "name": "R",
   "pygments_lexer": "r",
   "version": "4.3.1"
  }
 },
 "nbformat": 4,
 "nbformat_minor": 5
}
