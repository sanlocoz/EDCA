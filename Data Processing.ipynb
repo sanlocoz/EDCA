{
 "cells": [
  {
   "cell_type": "markdown",
   "id": "a4c9daea",
   "metadata": {},
   "source": [
    "# Catchment Scale Data Analysis"
   ]
  },
  {
   "cell_type": "markdown",
   "id": "dc23e4f2",
   "metadata": {},
   "source": [
    "## 1. Preparing the data"
   ]
  },
  {
   "cell_type": "code",
   "execution_count": 1,
   "id": "9b7c45ab",
   "metadata": {
    "scrolled": true
   },
   "outputs": [
    {
     "name": "stderr",
     "output_type": "stream",
     "text": [
      "\n",
      "Attaching package: 'dplyr'\n",
      "\n",
      "\n",
      "The following objects are masked from 'package:stats':\n",
      "\n",
      "    filter, lag\n",
      "\n",
      "\n",
      "The following objects are masked from 'package:base':\n",
      "\n",
      "    intersect, setdiff, setequal, union\n",
      "\n",
      "\n"
     ]
    }
   ],
   "source": [
    "## Importing library and setting up\n",
    "library(stringr)\n",
    "library(ggplot2)\n",
    "library(dplyr)\n",
    "\n",
    "rm(list=ls())"
   ]
  },
  {
   "cell_type": "code",
   "execution_count": 2,
   "id": "98d9ccc8",
   "metadata": {
    "scrolled": true
   },
   "outputs": [],
   "source": [
    "#change this to working directory\n",
    "stew_name = \"Strockhorsterdijk\"\n",
    "dir = paste(\"D:/Wageningen/Period 1/EDCA/Part 2/Stew\", stew_name)\n",
    "setwd(dir)"
   ]
  },
  {
   "cell_type": "code",
   "execution_count": 3,
   "id": "b7ad47a5",
   "metadata": {
    "scrolled": true
   },
   "outputs": [],
   "source": [
    "discharge = read.csv('Discharge.csv', skip=16, sep=\";\")\n",
    "upstream = read.csv('Upstream.csv', skip=16, sep=\";\")\n",
    "downstream = read.csv('Downstream.csv', skip=16, sep=\";\")\n",
    "valve = read.csv('Valve.csv', skip=16, sep=\";\")"
   ]
  },
  {
   "cell_type": "code",
   "execution_count": 4,
   "id": "abe04052",
   "metadata": {
    "scrolled": true
   },
   "outputs": [
    {
     "name": "stdout",
     "output_type": "stream",
     "text": [
      "                 Date Value\n",
      "1 2010-08-22 15:00:00   ---\n",
      "2 2010-08-22 16:00:00   ---\n",
      "3 2010-08-22 17:00:00   ---\n",
      "4 2010-08-22 18:00:00   ---\n",
      "5 2010-08-22 19:00:00   ---\n",
      "6 2010-08-22 20:00:00   ---\n"
     ]
    }
   ],
   "source": [
    "#rename columns\n",
    "colnames(discharge)[1]=\"Date\"\n",
    "colnames(discharge)[2]=\"Value\"\n",
    "\n",
    "colnames(upstream)[1]=\"Date\"\n",
    "colnames(upstream)[2]=\"Value\"\n",
    "\n",
    "colnames(downstream)[1]=\"Date\"\n",
    "colnames(downstream)[2]=\"Value\"\n",
    "\n",
    "colnames(valve)[1]=\"Date\"\n",
    "colnames(valve)[2]=\"Value\"\n",
    "\n",
    "print(head(discharge))"
   ]
  },
  {
   "cell_type": "code",
   "execution_count": 5,
   "id": "074a17c8",
   "metadata": {
    "scrolled": true
   },
   "outputs": [
    {
     "name": "stdout",
     "output_type": "stream",
     "text": [
      "                 Date Value\n",
      "1 2010-08-22 15:00:00    NA\n",
      "2 2010-08-22 16:00:00    NA\n",
      "3 2010-08-22 17:00:00    NA\n",
      "4 2010-08-22 18:00:00    NA\n",
      "5 2010-08-22 19:00:00    NA\n",
      "6 2010-08-22 20:00:00    NA\n"
     ]
    }
   ],
   "source": [
    "#filtering data\n",
    "discharge$Value=str_trim(discharge$Value)\n",
    "discharge$Value[discharge$Value == \"---\"] <- NA\n",
    "discharge$Value = as.numeric(gsub(\",\", \".\", gsub(\"\\\\.\", \"\", discharge$Value)))\n",
    "\n",
    "upstream$Value=str_trim(upstream$Value)\n",
    "upstream$Value[upstream$Value == \"---\"] <- NA\n",
    "upstream$Value = as.numeric(gsub(\",\", \".\", gsub(\"\\\\.\", \"\", upstream$Value)))\n",
    "\n",
    "downstream$Value=str_trim(downstream$Value)\n",
    "downstream$Value[downstream$Value == \"---\"] <- NA\n",
    "downstream$Value = as.numeric(gsub(\",\", \".\", gsub(\"\\\\.\", \"\", downstream$Value)))\n",
    "\n",
    "valve$Value=str_trim(valve$Value)\n",
    "valve$Value[valve$Value == \"---\"] <- NA\n",
    "valve$Value = as.numeric(gsub(\",\", \".\", gsub(\"\\\\.\", \"\", valve$Value)))\n",
    "\n",
    "print(head(discharge))"
   ]
  },
  {
   "cell_type": "code",
   "execution_count": 6,
   "id": "f72ac669",
   "metadata": {
    "scrolled": true
   },
   "outputs": [],
   "source": [
    "#changing date format to POSIXlt objects\n",
    "discharge$Date <- as.POSIXlt(discharge$Date, format=\"%Y-%m-%d %H:%M:%S\")\n",
    "valve$Date <- as.POSIXlt(valve$Date, format=\"%Y-%m-%d %H:%M:%S\")\n",
    "upstream$Date <- as.POSIXlt(upstream$Date, format=\"%Y-%m-%d %H:%M:%S\")\n",
    "downstream$Date <- as.POSIXlt(downstream$Date, format=\"%Y-%m-%d %H:%M:%S\")"
   ]
  },
  {
   "cell_type": "code",
   "execution_count": 7,
   "id": "e05a9964",
   "metadata": {
    "scrolled": false
   },
   "outputs": [
    {
     "name": "stdout",
     "output_type": "stream",
     "text": [
      "                 Date Discharge Downstream Upstream Valve\n",
      "1 2010-08-22 15:00:00        NA     17.035   17.654    NA\n",
      "2 2010-08-22 16:00:00        NA     17.034   17.654    NA\n",
      "3 2010-08-22 17:00:00        NA     17.034   17.654    NA\n",
      "4 2010-08-22 18:00:00        NA     17.035   17.654    NA\n",
      "5 2010-08-22 19:00:00        NA     17.035   17.655    NA\n",
      "6 2010-08-22 20:00:00        NA     17.036   17.655    NA\n"
     ]
    },
    {
     "data": {
      "text/plain": [
       "      Date                       Discharge       Downstream       Upstream    \n",
       " Min.   :2010-08-22 15:00:00   Min.   :0.000   Min.   :16.77   Min.   :17.10  \n",
       " 1st Qu.:2013-12-02 13:45:00   1st Qu.:0.001   1st Qu.:17.04   1st Qu.:17.72  \n",
       " Median :2017-03-14 13:30:00   Median :0.045   Median :17.18   Median :17.77  \n",
       " Mean   :2017-03-14 13:30:00   Mean   :0.096   Mean   :17.19   Mean   :17.72  \n",
       " 3rd Qu.:2020-06-24 14:15:00   3rd Qu.:0.127   3rd Qu.:17.32   3rd Qu.:17.83  \n",
       " Max.   :2023-10-05 14:00:00   Max.   :2.089   Max.   :18.59   Max.   :18.61  \n",
       "                               NA's   :24408   NA's   :23905   NA's   :23947  \n",
       "     Valve      \n",
       " Min.   :17.69  \n",
       " 1st Qu.:17.70  \n",
       " Median :17.73  \n",
       " Mean   :17.74  \n",
       " 3rd Qu.:17.75  \n",
       " Max.   :17.96  \n",
       " NA's   :18926  "
      ]
     },
     "metadata": {},
     "output_type": "display_data"
    }
   ],
   "source": [
    "#start and end full data\n",
    "start_full <- min(discharge$Date[1],upstream$Date[1],valve$Date[1],downstream$Date[1])\n",
    "end_full <- max(discharge$Date[length(discharge$Date)],upstream$Date[length(upstream$Date)],valve$Date[length(valve$Date)],downstream$Date[length(downstream$Date)])\n",
    "\n",
    "#make full data\n",
    "date_sequence <- seq(from = start_full, to = end_full, by = \"hour\")  \n",
    "full_data <- data.frame(Date = date_sequence)\n",
    "\n",
    "full_data <- left_join(full_data, discharge, by = \"Date\")\n",
    "colnames(full_data)[2]=\"Discharge\"\n",
    "\n",
    "full_data <- left_join(full_data, downstream, by = \"Date\")\n",
    "colnames(full_data)[3]=\"Downstream\"\n",
    "\n",
    "full_data <- left_join(full_data, upstream, by = \"Date\")\n",
    "colnames(full_data)[4]=\"Upstream\"\n",
    "\n",
    "full_data <- left_join(full_data, valve, by = \"Date\")\n",
    "colnames(full_data)[5]=\"Valve\"\n",
    "\n",
    "print(head(full_data))\n",
    "\n",
    "summary(full_data)"
   ]
  },
  {
   "cell_type": "markdown",
   "id": "eedf277d",
   "metadata": {},
   "source": [
    "## 2. Filling the Data Using Q-h Relationship"
   ]
  },
  {
   "cell_type": "code",
   "execution_count": 8,
   "id": "758a257c",
   "metadata": {
    "scrolled": true
   },
   "outputs": [
    {
     "name": "stdout",
     "output_type": "stream",
     "text": [
      "                     Date Discharge Downstream Upstream  Valve\n",
      "12673 2012-02-01 14:00:00     0.070     17.268   17.789 17.735\n",
      "12674 2012-02-01 15:00:00     0.071     17.267   17.790 17.736\n",
      "12675 2012-02-01 16:00:00     0.071     17.267   17.790 17.736\n",
      "12676 2012-02-01 17:00:00     0.069     17.268   17.789 17.736\n",
      "12677 2012-02-01 18:00:00     0.068     17.268   17.788 17.735\n",
      "12678 2012-02-01 19:00:00     0.067     17.268   17.786 17.734\n"
     ]
    }
   ],
   "source": [
    "#ommiting NA values and choosing only positive or 0 data\n",
    "positive_full_data <- full_data[full_data$Upstream-full_data$Valve >= 0,]\n",
    "positive_full_data <- na.omit(positive_full_data)\n",
    "\n",
    "print(head(positive_full_data))"
   ]
  },
  {
   "cell_type": "code",
   "execution_count": 9,
   "id": "d9a8dcfe",
   "metadata": {
    "scrolled": true
   },
   "outputs": [
    {
     "name": "stdout",
     "output_type": "stream",
     "text": [
      "                     Date Discharge Downstream Upstream  Valve     h\n",
      "12673 2012-02-01 14:00:00     0.070     17.268   17.789 17.735 0.054\n",
      "12674 2012-02-01 15:00:00     0.071     17.267   17.790 17.736 0.054\n",
      "12675 2012-02-01 16:00:00     0.071     17.267   17.790 17.736 0.054\n",
      "12676 2012-02-01 17:00:00     0.069     17.268   17.789 17.736 0.053\n",
      "12677 2012-02-01 18:00:00     0.068     17.268   17.788 17.735 0.053\n",
      "12678 2012-02-01 19:00:00     0.067     17.268   17.786 17.734 0.052\n"
     ]
    }
   ],
   "source": [
    "#adding h (water level) column\n",
    "options(repr.plot.width = 13)\n",
    "\n",
    "positive_full_data$h = positive_full_data$Upstream-positive_full_data$Valve\n",
    "\n",
    "print(head(positive_full_data))"
   ]
  },
  {
   "cell_type": "code",
   "execution_count": 10,
   "id": "2de08b79",
   "metadata": {
    "scrolled": true
   },
   "outputs": [],
   "source": [
    "# Specify the file path where you want to save the CSV file\n",
    "file_path <- paste(\"D:/Wageningen/Period 1/EDCA/Part 2/Stew \",stew_name,\"/output.csv\", sep=\"\")\n",
    "\n",
    "# Export the data frame to a CSV file\n",
    "write.table(positive_full_data, file = file_path, row.names = FALSE, sep=\";\")"
   ]
  },
  {
   "cell_type": "code",
   "execution_count": null,
   "id": "6065e991",
   "metadata": {
    "scrolled": false
   },
   "outputs": [],
   "source": [
    "lm_model <- lm(positive_full_data$Discharge ~ I(positive_full_data$h^(3/2))-1)\n",
    "\n",
    "predicted_values <- predict(lm_model)\n",
    "\n",
    "ggplot(positive_full_data, aes(x = h, y = Discharge)) +\n",
    "  geom_point(shape = 4, size =3, color = \"blue\") +\n",
    "  geom_line(aes(y = predicted_values), color = \"red\") +\n",
    "  labs(x = \"Height (m)\", y = expression(paste(\"Discharge (\", m^3,\"/h)\")))+\n",
    "  theme(\n",
    "      panel.background = element_rect(fill = \"lightblue\"),\n",
    "      plot.title = element_text(hjust = 0.5, size=16, face =\"bold\"),\n",
    "      axis.title.x = element_text(size = 15),               \n",
    "      axis.title.y = element_text(size = 15),               \n",
    "      axis.text.x = element_text(size = 12),                \n",
    "      axis.text.y = element_text(size = 12)  \n",
    "  ) +\n",
    "  ggtitle(paste(\"Q-h Relationship\", stew_name))"
   ]
  },
  {
   "cell_type": "code",
   "execution_count": 38,
   "id": "fdcfffa2",
   "metadata": {
    "scrolled": true
   },
   "outputs": [],
   "source": [
    "?ggplot"
   ]
  },
  {
   "cell_type": "code",
   "execution_count": null,
   "id": "3be131f4",
   "metadata": {
    "scrolled": true
   },
   "outputs": [],
   "source": [
    "#start and end period\n",
    "start = \"2015-01-01\"\n",
    "end = \"2018-01-01\""
   ]
  },
  {
   "cell_type": "code",
   "execution_count": null,
   "id": "2dbdcfa2",
   "metadata": {
    "scrolled": true
   },
   "outputs": [],
   "source": [
    "#plotting\n",
    "options(repr.plot.width = 15)\n",
    "\n",
    "discharge_subset <- discharge[discharge$Date >= as.POSIXlt(start) & discharge$Date <= as.POSIXlt(end), ]\n",
    "downstream_subset <- downstream[downstream$Date >= as.POSIXlt(start) & downstream$Date <= as.POSIXlt(end), ]\n",
    "upstream_subset <- upstream[upstream$Date >= as.POSIXlt(start) & upstream$Date <= as.POSIXlt(end), ]\n",
    "valve_subset <- valve[valve$Date >= as.POSIXlt(start) & valve$Date <= as.POSIXlt(end), ]\n",
    "\n",
    "#plotting ggplot\n",
    "ggplot(discharge_subset, aes(x = as.Date(Date), y = Value)) +\n",
    "  geom_line() +\n",
    "  labs(y = \"Discharge\", x = \"Date\") +\n",
    "  scale_x_date(date_labels = \"%b %Y\", date_breaks = \"6 months\")\n",
    "\n",
    "ggplot(downstream_subset, aes(x = as.Date(Date), y = Value)) +\n",
    "  geom_line() +\n",
    "  labs(y = \"Downstream\", x = \"Date\") +\n",
    "  scale_x_date(date_labels = \"%b %Y\", date_breaks = \"6 months\")\n",
    "\n",
    "ggplot(upstream_subset, aes(x = as.Date(Date), y = Value)) +\n",
    "  geom_line() +\n",
    "  labs(y = \"Upstream\", x = \"Date\") +\n",
    "  scale_x_date(date_labels = \"%b %Y\", date_breaks = \"6 months\")\n",
    "\n",
    "ggplot(valve_subset, aes(x = as.Date(Date), y = Value)) +\n",
    "  geom_line() +\n",
    "  labs(y = \"Valve\", x = \"Date\") +\n",
    "  scale_x_date(date_labels = \"%b %Y\", date_breaks = \"6 months\")\n"
   ]
  },
  {
   "cell_type": "code",
   "execution_count": null,
   "id": "6cad14b5",
   "metadata": {
    "scrolled": true
   },
   "outputs": [],
   "source": [
    "boxplot(full_data$Discharge,full_data$Downstream)"
   ]
  }
 ],
 "metadata": {
  "kernelspec": {
   "display_name": "R",
   "language": "R",
   "name": "ir"
  },
  "language_info": {
   "codemirror_mode": "r",
   "file_extension": ".r",
   "mimetype": "text/x-r-source",
   "name": "R",
   "pygments_lexer": "r",
   "version": "4.3.1"
  }
 },
 "nbformat": 4,
 "nbformat_minor": 5
}
